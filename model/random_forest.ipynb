{
  "nbformat": 4,
  "nbformat_minor": 0,
  "metadata": {
    "colab": {
      "name": "random_forest.ipynb",
      "provenance": []
    },
    "kernelspec": {
      "name": "python3",
      "display_name": "Python 3"
    },
    "language_info": {
      "name": "python"
    }
  },
  "cells": [
    {
      "cell_type": "code",
      "metadata": {
        "id": "Rb3wkkhEA9So"
      },
      "source": [
        "import pandas as pd\n",
        "import numpy as np\n",
        "from sklearn.preprocessing import LabelEncoder, StandardScaler, MinMaxScaler\n",
        "from sklearn.model_selection import train_test_split\n",
        "import seaborn as sns\n",
        "import matplotlib.pyplot as plt\n",
        "from sklearn.metrics import roc_auc_score, auc\n",
        "\n",
        "from datetime import datetime\n",
        "from lightgbm import LGBMClassifier \n",
        "from xgboost import XGBClassifier\n",
        "\n",
        "from sklearn.model_selection import RandomizedSearchCV, GridSearchCV"
      ],
      "execution_count": 3,
      "outputs": []
    },
    {
      "cell_type": "code",
      "metadata": {
        "id": "DGLb9rfiA-VY"
      },
      "source": [
        "train_data = pd.read_csv('train.csv',index_col = 'Id')\n",
        "test_data = pd.read_csv('test.csv', index_col = 'id')"
      ],
      "execution_count": 4,
      "outputs": []
    },
    {
      "cell_type": "code",
      "metadata": {
        "colab": {
          "base_uri": "https://localhost:8080/"
        },
        "id": "xjfo4zqYBPqy",
        "outputId": "2cd8d498-da39-4d5a-8313-4e7947824dbb"
      },
      "source": [
        "train_data.info()"
      ],
      "execution_count": 5,
      "outputs": [
        {
          "output_type": "stream",
          "text": [
            "<class 'pandas.core.frame.DataFrame'>\n",
            "Int64Index: 252000 entries, 1 to 252000\n",
            "Data columns (total 12 columns):\n",
            " #   Column               Non-Null Count   Dtype \n",
            "---  ------               --------------   ----- \n",
            " 0   income               252000 non-null  int64 \n",
            " 1   age                  252000 non-null  int64 \n",
            " 2   experience           252000 non-null  int64 \n",
            " 3   married              252000 non-null  object\n",
            " 4   house_ownership      252000 non-null  object\n",
            " 5   car_ownership        252000 non-null  object\n",
            " 6   profession           252000 non-null  object\n",
            " 7   city                 252000 non-null  object\n",
            " 8   state                252000 non-null  object\n",
            " 9   current_job_years    252000 non-null  int64 \n",
            " 10  current_house_years  252000 non-null  int64 \n",
            " 11  risk_flag            252000 non-null  int64 \n",
            "dtypes: int64(6), object(6)\n",
            "memory usage: 25.0+ MB\n"
          ],
          "name": "stdout"
        }
      ]
    },
    {
      "cell_type": "code",
      "metadata": {
        "colab": {
          "base_uri": "https://localhost:8080/",
          "height": 300
        },
        "id": "N1LK3ajjBYY_",
        "outputId": "4af2fd00-d60d-4d38-cbba-60107bfd2802"
      },
      "source": [
        "train_data.describe()"
      ],
      "execution_count": 6,
      "outputs": [
        {
          "output_type": "execute_result",
          "data": {
            "text/html": [
              "<div>\n",
              "<style scoped>\n",
              "    .dataframe tbody tr th:only-of-type {\n",
              "        vertical-align: middle;\n",
              "    }\n",
              "\n",
              "    .dataframe tbody tr th {\n",
              "        vertical-align: top;\n",
              "    }\n",
              "\n",
              "    .dataframe thead th {\n",
              "        text-align: right;\n",
              "    }\n",
              "</style>\n",
              "<table border=\"1\" class=\"dataframe\">\n",
              "  <thead>\n",
              "    <tr style=\"text-align: right;\">\n",
              "      <th></th>\n",
              "      <th>income</th>\n",
              "      <th>age</th>\n",
              "      <th>experience</th>\n",
              "      <th>current_job_years</th>\n",
              "      <th>current_house_years</th>\n",
              "      <th>risk_flag</th>\n",
              "    </tr>\n",
              "  </thead>\n",
              "  <tbody>\n",
              "    <tr>\n",
              "      <th>count</th>\n",
              "      <td>2.520000e+05</td>\n",
              "      <td>252000.000000</td>\n",
              "      <td>252000.000000</td>\n",
              "      <td>252000.000000</td>\n",
              "      <td>252000.000000</td>\n",
              "      <td>252000.000000</td>\n",
              "    </tr>\n",
              "    <tr>\n",
              "      <th>mean</th>\n",
              "      <td>4.997117e+06</td>\n",
              "      <td>49.954071</td>\n",
              "      <td>10.084437</td>\n",
              "      <td>6.333877</td>\n",
              "      <td>11.997794</td>\n",
              "      <td>0.123000</td>\n",
              "    </tr>\n",
              "    <tr>\n",
              "      <th>std</th>\n",
              "      <td>2.878311e+06</td>\n",
              "      <td>17.063863</td>\n",
              "      <td>6.002590</td>\n",
              "      <td>3.647053</td>\n",
              "      <td>1.399037</td>\n",
              "      <td>0.328438</td>\n",
              "    </tr>\n",
              "    <tr>\n",
              "      <th>min</th>\n",
              "      <td>1.031000e+04</td>\n",
              "      <td>21.000000</td>\n",
              "      <td>0.000000</td>\n",
              "      <td>0.000000</td>\n",
              "      <td>10.000000</td>\n",
              "      <td>0.000000</td>\n",
              "    </tr>\n",
              "    <tr>\n",
              "      <th>25%</th>\n",
              "      <td>2.503015e+06</td>\n",
              "      <td>35.000000</td>\n",
              "      <td>5.000000</td>\n",
              "      <td>3.000000</td>\n",
              "      <td>11.000000</td>\n",
              "      <td>0.000000</td>\n",
              "    </tr>\n",
              "    <tr>\n",
              "      <th>50%</th>\n",
              "      <td>5.000694e+06</td>\n",
              "      <td>50.000000</td>\n",
              "      <td>10.000000</td>\n",
              "      <td>6.000000</td>\n",
              "      <td>12.000000</td>\n",
              "      <td>0.000000</td>\n",
              "    </tr>\n",
              "    <tr>\n",
              "      <th>75%</th>\n",
              "      <td>7.477502e+06</td>\n",
              "      <td>65.000000</td>\n",
              "      <td>15.000000</td>\n",
              "      <td>9.000000</td>\n",
              "      <td>13.000000</td>\n",
              "      <td>0.000000</td>\n",
              "    </tr>\n",
              "    <tr>\n",
              "      <th>max</th>\n",
              "      <td>9.999938e+06</td>\n",
              "      <td>79.000000</td>\n",
              "      <td>20.000000</td>\n",
              "      <td>14.000000</td>\n",
              "      <td>14.000000</td>\n",
              "      <td>1.000000</td>\n",
              "    </tr>\n",
              "  </tbody>\n",
              "</table>\n",
              "</div>"
            ],
            "text/plain": [
              "             income            age  ...  current_house_years      risk_flag\n",
              "count  2.520000e+05  252000.000000  ...        252000.000000  252000.000000\n",
              "mean   4.997117e+06      49.954071  ...            11.997794       0.123000\n",
              "std    2.878311e+06      17.063863  ...             1.399037       0.328438\n",
              "min    1.031000e+04      21.000000  ...            10.000000       0.000000\n",
              "25%    2.503015e+06      35.000000  ...            11.000000       0.000000\n",
              "50%    5.000694e+06      50.000000  ...            12.000000       0.000000\n",
              "75%    7.477502e+06      65.000000  ...            13.000000       0.000000\n",
              "max    9.999938e+06      79.000000  ...            14.000000       1.000000\n",
              "\n",
              "[8 rows x 6 columns]"
            ]
          },
          "metadata": {
            "tags": []
          },
          "execution_count": 6
        }
      ]
    },
    {
      "cell_type": "code",
      "metadata": {
        "colab": {
          "base_uri": "https://localhost:8080/"
        },
        "id": "7p7YYgSRBeJI",
        "outputId": "6c9b9b2f-fced-41db-f4da-ce9b6daa264a"
      },
      "source": [
        "cat_features = train_data.select_dtypes(['object']).columns\n",
        "cat_features"
      ],
      "execution_count": 7,
      "outputs": [
        {
          "output_type": "execute_result",
          "data": {
            "text/plain": [
              "Index(['married', 'house_ownership', 'car_ownership', 'profession', 'city',\n",
              "       'state'],\n",
              "      dtype='object')"
            ]
          },
          "metadata": {
            "tags": []
          },
          "execution_count": 7
        }
      ]
    },
    {
      "cell_type": "code",
      "metadata": {
        "colab": {
          "base_uri": "https://localhost:8080/"
        },
        "id": "OZvrO55IBeHU",
        "outputId": "07b283ed-2fce-4473-fc77-3b9eeb61b621"
      },
      "source": [
        "for col in cat_features:\n",
        "    print(train_data[col].nunique())"
      ],
      "execution_count": 8,
      "outputs": [
        {
          "output_type": "stream",
          "text": [
            "2\n",
            "3\n",
            "2\n",
            "51\n",
            "317\n",
            "29\n"
          ],
          "name": "stdout"
        }
      ]
    },
    {
      "cell_type": "code",
      "metadata": {
        "colab": {
          "base_uri": "https://localhost:8080/"
        },
        "id": "QmvZQH29BeE-",
        "outputId": "89e3992d-616e-4ab7-bcc4-55bfdfc7e47d"
      },
      "source": [
        "for col in cat_features:\n",
        "    print(train_data[col].value_counts())"
      ],
      "execution_count": 9,
      "outputs": [
        {
          "output_type": "stream",
          "text": [
            "single     226272\n",
            "married     25728\n",
            "Name: married, dtype: int64\n",
            "rented          231898\n",
            "owned            12918\n",
            "norent_noown      7184\n",
            "Name: house_ownership, dtype: int64\n",
            "no     176000\n",
            "yes     76000\n",
            "Name: car_ownership, dtype: int64\n",
            "Physician                     5957\n",
            "Statistician                  5806\n",
            "Web_designer                  5397\n",
            "Psychologist                  5390\n",
            "Computer_hardware_engineer    5372\n",
            "Drafter                       5359\n",
            "Magistrate                    5357\n",
            "Fashion_Designer              5304\n",
            "Air_traffic_controller        5281\n",
            "Comedian                      5259\n",
            "Industrial_Engineer           5250\n",
            "Mechanical_engineer           5217\n",
            "Chemical_engineer             5205\n",
            "Technical_writer              5195\n",
            "Hotel_Manager                 5178\n",
            "Financial_Analyst             5167\n",
            "Graphic_Designer              5166\n",
            "Flight_attendant              5128\n",
            "Biomedical_Engineer           5127\n",
            "Secretary                     5061\n",
            "Software_Developer            5053\n",
            "Petroleum_Engineer            5041\n",
            "Police_officer                5035\n",
            "Computer_operator             4990\n",
            "Politician                    4944\n",
            "Microbiologist                4881\n",
            "Technician                    4864\n",
            "Artist                        4861\n",
            "Lawyer                        4818\n",
            "Consultant                    4808\n",
            "Dentist                       4782\n",
            "Scientist                     4781\n",
            "Surgeon                       4772\n",
            "Aviator                       4758\n",
            "Technology_specialist         4737\n",
            "Design_Engineer               4729\n",
            "Surveyor                      4714\n",
            "Geologist                     4672\n",
            "Analyst                       4668\n",
            "Army_officer                  4661\n",
            "Architect                     4657\n",
            "Chef                          4635\n",
            "Librarian                     4628\n",
            "Civil_engineer                4616\n",
            "Designer                      4598\n",
            "Economist                     4573\n",
            "Firefighter                   4507\n",
            "Chartered_Accountant          4493\n",
            "Civil_servant                 4413\n",
            "Official                      4087\n",
            "Engineer                      4048\n",
            "Name: profession, dtype: int64\n",
            "Vijayanagaram       1259\n",
            "Bhopal              1208\n",
            "Bulandshahr         1185\n",
            "Saharsa[29]         1180\n",
            "Vijayawada          1172\n",
            "                    ... \n",
            "Ujjain               486\n",
            "Warangal[11][12]     459\n",
            "Bettiah[33]          457\n",
            "Katni                448\n",
            "Karaikudi            431\n",
            "Name: city, Length: 317, dtype: int64\n",
            "Uttar_Pradesh        28400\n",
            "Maharashtra          25562\n",
            "Andhra_Pradesh       25297\n",
            "West_Bengal          23483\n",
            "Bihar                19780\n",
            "Tamil_Nadu           16537\n",
            "Madhya_Pradesh       14122\n",
            "Karnataka            11855\n",
            "Gujarat              11408\n",
            "Rajasthan             9174\n",
            "Jharkhand             8965\n",
            "Haryana               7890\n",
            "Telangana             7524\n",
            "Assam                 7062\n",
            "Kerala                5805\n",
            "Delhi                 5490\n",
            "Punjab                4720\n",
            "Odisha                4658\n",
            "Chhattisgarh          3834\n",
            "Uttarakhand           1874\n",
            "Jammu_and_Kashmir     1780\n",
            "Puducherry            1433\n",
            "Mizoram                849\n",
            "Manipur                849\n",
            "Himachal_Pradesh       833\n",
            "Tripura                809\n",
            "Uttar_Pradesh[5]       743\n",
            "Chandigarh             656\n",
            "Sikkim                 608\n",
            "Name: state, dtype: int64\n"
          ],
          "name": "stdout"
        }
      ]
    },
    {
      "cell_type": "code",
      "metadata": {
        "id": "rLbpc21WBeCG"
      },
      "source": [
        "le = LabelEncoder()\n",
        "for col in cat_features:\n",
        "    train_data[col] = le.fit_transform(train_data[col])\n",
        "    test_data[col] = le.fit_transform(test_data[col])"
      ],
      "execution_count": 10,
      "outputs": []
    },
    {
      "cell_type": "code",
      "metadata": {
        "colab": {
          "base_uri": "https://localhost:8080/"
        },
        "id": "GtrgP7mSBd-x",
        "outputId": "b9610423-401e-4ce5-88f4-945232b44884"
      },
      "source": [
        "train_data.info()"
      ],
      "execution_count": 11,
      "outputs": [
        {
          "output_type": "stream",
          "text": [
            "<class 'pandas.core.frame.DataFrame'>\n",
            "Int64Index: 252000 entries, 1 to 252000\n",
            "Data columns (total 12 columns):\n",
            " #   Column               Non-Null Count   Dtype\n",
            "---  ------               --------------   -----\n",
            " 0   income               252000 non-null  int64\n",
            " 1   age                  252000 non-null  int64\n",
            " 2   experience           252000 non-null  int64\n",
            " 3   married              252000 non-null  int64\n",
            " 4   house_ownership      252000 non-null  int64\n",
            " 5   car_ownership        252000 non-null  int64\n",
            " 6   profession           252000 non-null  int64\n",
            " 7   city                 252000 non-null  int64\n",
            " 8   state                252000 non-null  int64\n",
            " 9   current_job_years    252000 non-null  int64\n",
            " 10  current_house_years  252000 non-null  int64\n",
            " 11  risk_flag            252000 non-null  int64\n",
            "dtypes: int64(12)\n",
            "memory usage: 25.0 MB\n"
          ],
          "name": "stdout"
        }
      ]
    },
    {
      "cell_type": "code",
      "metadata": {
        "id": "BX8RA4kdBd86"
      },
      "source": [
        "sc = StandardScaler()\n",
        "col = 'income'\n",
        "train_data[col] = sc.fit_transform(train_data[col].values.reshape(-1,1))\n",
        "test_data[col] = sc.transform(test_data[col].values.reshape(-1,1))"
      ],
      "execution_count": 12,
      "outputs": []
    },
    {
      "cell_type": "code",
      "metadata": {
        "id": "e0uPUCjtB1k_"
      },
      "source": [
        "sc = StandardScaler()\n",
        "col = 'age'\n",
        "train_data[col] = sc.fit_transform(train_data[col].values.reshape(-1,1))\n",
        "test_data[col] = sc.transform(test_data[col].values.reshape(-1,1))"
      ],
      "execution_count": 13,
      "outputs": []
    },
    {
      "cell_type": "code",
      "metadata": {
        "id": "axDQvjNqB1hC"
      },
      "source": [
        "sc = StandardScaler()\n",
        "col = 'experience'\n",
        "train_data[col] = sc.fit_transform(train_data[col].values.reshape(-1,1))\n",
        "test_data[col] = sc.transform(test_data[col].values.reshape(-1,1))"
      ],
      "execution_count": 14,
      "outputs": []
    },
    {
      "cell_type": "code",
      "metadata": {
        "id": "i-raSAiOB1ff"
      },
      "source": [
        "sc = StandardScaler()\n",
        "col = 'current_job_years'\n",
        "train_data[col] = sc.fit_transform(train_data[col].values.reshape(-1,1))\n",
        "test_data[col] = sc.transform(test_data[col].values.reshape(-1,1))"
      ],
      "execution_count": 15,
      "outputs": []
    },
    {
      "cell_type": "code",
      "metadata": {
        "id": "CF6CPaI2B1c1"
      },
      "source": [
        "sc = StandardScaler()\n",
        "col = 'current_house_years'\n",
        "train_data[col] = sc.fit_transform(train_data[col].values.reshape(-1,1))\n",
        "test_data[col] = sc.transform(test_data[col].values.reshape(-1,1))"
      ],
      "execution_count": 17,
      "outputs": []
    },
    {
      "cell_type": "code",
      "metadata": {
        "id": "s85LFK2yDo5H"
      },
      "source": [
        "from sklearn.ensemble import RandomForestClassifier"
      ],
      "execution_count": 19,
      "outputs": []
    },
    {
      "cell_type": "code",
      "metadata": {
        "colab": {
          "base_uri": "https://localhost:8080/"
        },
        "id": "uQ7mT97oB1bU",
        "outputId": "3770cb98-3c54-4fea-e4f9-d8d8cfb6df03"
      },
      "source": [
        "RandomForestClassifier(bootstrap=True, ccp_alpha=0.0, class_weight=None,\n",
        "                       criterion='gini', max_depth=None, max_features='auto',\n",
        "                       max_leaf_nodes=None, max_samples=None,\n",
        "                       min_impurity_decrease=0.0, min_impurity_split=None,\n",
        "                       min_samples_leaf=1, min_samples_split=2,\n",
        "                       min_weight_fraction_leaf=0.0, n_estimators=100,\n",
        "                       n_jobs=-1, oob_score=False, random_state=3696, verbose=0,\n",
        "                       warm_start=False)"
      ],
      "execution_count": 20,
      "outputs": [
        {
          "output_type": "execute_result",
          "data": {
            "text/plain": [
              "RandomForestClassifier(bootstrap=True, ccp_alpha=0.0, class_weight=None,\n",
              "                       criterion='gini', max_depth=None, max_features='auto',\n",
              "                       max_leaf_nodes=None, max_samples=None,\n",
              "                       min_impurity_decrease=0.0, min_impurity_split=None,\n",
              "                       min_samples_leaf=1, min_samples_split=2,\n",
              "                       min_weight_fraction_leaf=0.0, n_estimators=100,\n",
              "                       n_jobs=-1, oob_score=False, random_state=3696, verbose=0,\n",
              "                       warm_start=False)"
            ]
          },
          "metadata": {
            "tags": []
          },
          "execution_count": 20
        }
      ]
    },
    {
      "cell_type": "code",
      "metadata": {
        "colab": {
          "base_uri": "https://localhost:8080/",
          "height": 475
        },
        "id": "jMk6JlbcB1X2",
        "outputId": "9a9fb937-eba2-4d78-8d76-a90bfe9e94c1"
      },
      "source": [
        "y = train_data.loc[:,'risk_flag']\n",
        "X = train_data.drop('risk_flag', axis = 1)\n",
        "X"
      ],
      "execution_count": 21,
      "outputs": [
        {
          "output_type": "execute_result",
          "data": {
            "text/html": [
              "<div>\n",
              "<style scoped>\n",
              "    .dataframe tbody tr th:only-of-type {\n",
              "        vertical-align: middle;\n",
              "    }\n",
              "\n",
              "    .dataframe tbody tr th {\n",
              "        vertical-align: top;\n",
              "    }\n",
              "\n",
              "    .dataframe thead th {\n",
              "        text-align: right;\n",
              "    }\n",
              "</style>\n",
              "<table border=\"1\" class=\"dataframe\">\n",
              "  <thead>\n",
              "    <tr style=\"text-align: right;\">\n",
              "      <th></th>\n",
              "      <th>income</th>\n",
              "      <th>age</th>\n",
              "      <th>experience</th>\n",
              "      <th>married</th>\n",
              "      <th>house_ownership</th>\n",
              "      <th>car_ownership</th>\n",
              "      <th>profession</th>\n",
              "      <th>city</th>\n",
              "      <th>state</th>\n",
              "      <th>current_job_years</th>\n",
              "      <th>current_house_years</th>\n",
              "    </tr>\n",
              "    <tr>\n",
              "      <th>Id</th>\n",
              "      <th></th>\n",
              "      <th></th>\n",
              "      <th></th>\n",
              "      <th></th>\n",
              "      <th></th>\n",
              "      <th></th>\n",
              "      <th></th>\n",
              "      <th></th>\n",
              "      <th></th>\n",
              "      <th></th>\n",
              "      <th></th>\n",
              "    </tr>\n",
              "  </thead>\n",
              "  <tbody>\n",
              "    <tr>\n",
              "      <th>1</th>\n",
              "      <td>-1.283145</td>\n",
              "      <td>-1.579603</td>\n",
              "      <td>-1.180232</td>\n",
              "      <td>1</td>\n",
              "      <td>2</td>\n",
              "      <td>0</td>\n",
              "      <td>33</td>\n",
              "      <td>251</td>\n",
              "      <td>13</td>\n",
              "      <td>-0.914131</td>\n",
              "      <td>0.716356</td>\n",
              "    </tr>\n",
              "    <tr>\n",
              "      <th>2</th>\n",
              "      <td>0.895457</td>\n",
              "      <td>-0.583343</td>\n",
              "      <td>-0.014067</td>\n",
              "      <td>1</td>\n",
              "      <td>2</td>\n",
              "      <td>0</td>\n",
              "      <td>43</td>\n",
              "      <td>227</td>\n",
              "      <td>14</td>\n",
              "      <td>0.731036</td>\n",
              "      <td>0.716356</td>\n",
              "    </tr>\n",
              "    <tr>\n",
              "      <th>3</th>\n",
              "      <td>-0.349269</td>\n",
              "      <td>0.940347</td>\n",
              "      <td>-1.013637</td>\n",
              "      <td>0</td>\n",
              "      <td>2</td>\n",
              "      <td>0</td>\n",
              "      <td>47</td>\n",
              "      <td>8</td>\n",
              "      <td>12</td>\n",
              "      <td>-0.639936</td>\n",
              "      <td>-1.427981</td>\n",
              "    </tr>\n",
              "    <tr>\n",
              "      <th>4</th>\n",
              "      <td>0.437526</td>\n",
              "      <td>-0.524740</td>\n",
              "      <td>-1.346827</td>\n",
              "      <td>1</td>\n",
              "      <td>2</td>\n",
              "      <td>1</td>\n",
              "      <td>43</td>\n",
              "      <td>54</td>\n",
              "      <td>17</td>\n",
              "      <td>-1.188325</td>\n",
              "      <td>0.001577</td>\n",
              "    </tr>\n",
              "    <tr>\n",
              "      <th>5</th>\n",
              "      <td>0.268128</td>\n",
              "      <td>-0.173119</td>\n",
              "      <td>0.152528</td>\n",
              "      <td>1</td>\n",
              "      <td>2</td>\n",
              "      <td>0</td>\n",
              "      <td>11</td>\n",
              "      <td>296</td>\n",
              "      <td>22</td>\n",
              "      <td>-0.914131</td>\n",
              "      <td>1.431135</td>\n",
              "    </tr>\n",
              "    <tr>\n",
              "      <th>...</th>\n",
              "      <td>...</td>\n",
              "      <td>...</td>\n",
              "      <td>...</td>\n",
              "      <td>...</td>\n",
              "      <td>...</td>\n",
              "      <td>...</td>\n",
              "      <td>...</td>\n",
              "      <td>...</td>\n",
              "      <td>...</td>\n",
              "      <td>...</td>\n",
              "      <td>...</td>\n",
              "    </tr>\n",
              "    <tr>\n",
              "      <th>251996</th>\n",
              "      <td>1.097092</td>\n",
              "      <td>-0.407533</td>\n",
              "      <td>0.485719</td>\n",
              "      <td>1</td>\n",
              "      <td>2</td>\n",
              "      <td>0</td>\n",
              "      <td>45</td>\n",
              "      <td>162</td>\n",
              "      <td>28</td>\n",
              "      <td>-0.091547</td>\n",
              "      <td>-0.713202</td>\n",
              "    </tr>\n",
              "    <tr>\n",
              "      <th>251997</th>\n",
              "      <td>-0.748199</td>\n",
              "      <td>-1.403792</td>\n",
              "      <td>-0.014067</td>\n",
              "      <td>1</td>\n",
              "      <td>2</td>\n",
              "      <td>0</td>\n",
              "      <td>3</td>\n",
              "      <td>251</td>\n",
              "      <td>13</td>\n",
              "      <td>-0.091547</td>\n",
              "      <td>-0.713202</td>\n",
              "    </tr>\n",
              "    <tr>\n",
              "      <th>251998</th>\n",
              "      <td>-0.164913</td>\n",
              "      <td>-0.231722</td>\n",
              "      <td>-0.513852</td>\n",
              "      <td>1</td>\n",
              "      <td>2</td>\n",
              "      <td>0</td>\n",
              "      <td>17</td>\n",
              "      <td>144</td>\n",
              "      <td>14</td>\n",
              "      <td>0.182647</td>\n",
              "      <td>0.001577</td>\n",
              "    </tr>\n",
              "    <tr>\n",
              "      <th>251999</th>\n",
              "      <td>0.524618</td>\n",
              "      <td>-0.290326</td>\n",
              "      <td>-1.680018</td>\n",
              "      <td>1</td>\n",
              "      <td>2</td>\n",
              "      <td>0</td>\n",
              "      <td>27</td>\n",
              "      <td>233</td>\n",
              "      <td>18</td>\n",
              "      <td>-1.736714</td>\n",
              "      <td>-1.427981</td>\n",
              "    </tr>\n",
              "    <tr>\n",
              "      <th>252000</th>\n",
              "      <td>1.415108</td>\n",
              "      <td>1.174761</td>\n",
              "      <td>1.152099</td>\n",
              "      <td>1</td>\n",
              "      <td>2</td>\n",
              "      <td>0</td>\n",
              "      <td>44</td>\n",
              "      <td>26</td>\n",
              "      <td>22</td>\n",
              "      <td>0.182647</td>\n",
              "      <td>-0.713202</td>\n",
              "    </tr>\n",
              "  </tbody>\n",
              "</table>\n",
              "<p>252000 rows × 11 columns</p>\n",
              "</div>"
            ],
            "text/plain": [
              "          income       age  ...  current_job_years  current_house_years\n",
              "Id                          ...                                        \n",
              "1      -1.283145 -1.579603  ...          -0.914131             0.716356\n",
              "2       0.895457 -0.583343  ...           0.731036             0.716356\n",
              "3      -0.349269  0.940347  ...          -0.639936            -1.427981\n",
              "4       0.437526 -0.524740  ...          -1.188325             0.001577\n",
              "5       0.268128 -0.173119  ...          -0.914131             1.431135\n",
              "...          ...       ...  ...                ...                  ...\n",
              "251996  1.097092 -0.407533  ...          -0.091547            -0.713202\n",
              "251997 -0.748199 -1.403792  ...          -0.091547            -0.713202\n",
              "251998 -0.164913 -0.231722  ...           0.182647             0.001577\n",
              "251999  0.524618 -0.290326  ...          -1.736714            -1.427981\n",
              "252000  1.415108  1.174761  ...           0.182647            -0.713202\n",
              "\n",
              "[252000 rows x 11 columns]"
            ]
          },
          "metadata": {
            "tags": []
          },
          "execution_count": 21
        }
      ]
    },
    {
      "cell_type": "code",
      "metadata": {
        "id": "Mg20e6vOB1VE"
      },
      "source": [
        "x_train, x_test, y_train, y_test = train_test_split(X, y, test_size = 0.2, stratify = y, random_state = 42)"
      ],
      "execution_count": 22,
      "outputs": []
    },
    {
      "cell_type": "code",
      "metadata": {
        "id": "Vz7-BNOhB1Sd"
      },
      "source": [
        "model = RandomForestClassifier(bootstrap=True, ccp_alpha=0.0, class_weight=None,\n",
        "                       criterion='gini', max_depth=None, max_features='auto',\n",
        "                       max_leaf_nodes=None, max_samples=None,\n",
        "                       min_impurity_decrease=0.0, min_impurity_split=None,\n",
        "                       min_samples_leaf=1, min_samples_split=2,\n",
        "                       min_weight_fraction_leaf=0.0, n_estimators=100,\n",
        "                       n_jobs=-1, oob_score=False, random_state=4058, verbose=0,\n",
        "                       warm_start=False)\n",
        "clf = model.fit(x_train, y_train)"
      ],
      "execution_count": 23,
      "outputs": []
    },
    {
      "cell_type": "code",
      "metadata": {
        "colab": {
          "base_uri": "https://localhost:8080/"
        },
        "id": "Xho7KcYGB1QD",
        "outputId": "10656e16-e63e-40bc-95ba-66fddbf28eb2"
      },
      "source": [
        "roc_auc_score(y_train, clf.predict(x_train))"
      ],
      "execution_count": 24,
      "outputs": [
        {
          "output_type": "execute_result",
          "data": {
            "text/plain": [
              "0.8795748754879298"
            ]
          },
          "metadata": {
            "tags": []
          },
          "execution_count": 24
        }
      ]
    },
    {
      "cell_type": "code",
      "metadata": {
        "colab": {
          "base_uri": "https://localhost:8080/"
        },
        "id": "2hCstNArB1Nv",
        "outputId": "788ea1c5-b652-47e4-d099-ca78085244aa"
      },
      "source": [
        "roc_auc_score(y_test,clf.predict_proba(x_test)[:,1])"
      ],
      "execution_count": 25,
      "outputs": [
        {
          "output_type": "execute_result",
          "data": {
            "text/plain": [
              "0.9362374980337279"
            ]
          },
          "metadata": {
            "tags": []
          },
          "execution_count": 25
        }
      ]
    },
    {
      "cell_type": "code",
      "metadata": {
        "id": "RS-F2SDDB1LQ"
      },
      "source": [
        "y_pred = model.predict(test_data)"
      ],
      "execution_count": 28,
      "outputs": []
    },
    {
      "cell_type": "code",
      "metadata": {
        "colab": {
          "base_uri": "https://localhost:8080/"
        },
        "id": "vF1FwSwqBd60",
        "outputId": "d20c1be1-a34a-43ed-f50a-d6305af3427d"
      },
      "source": [
        "y_pred"
      ],
      "execution_count": 29,
      "outputs": [
        {
          "output_type": "execute_result",
          "data": {
            "text/plain": [
              "array([0, 0, 0, ..., 0, 0, 0])"
            ]
          },
          "metadata": {
            "tags": []
          },
          "execution_count": 29
        }
      ]
    },
    {
      "cell_type": "code",
      "metadata": {
        "colab": {
          "base_uri": "https://localhost:8080/",
          "height": 237
        },
        "id": "cmzFTY9vBd37",
        "outputId": "383b2905-a7d7-43c9-b72d-a2ce382149c0"
      },
      "source": [
        "sub = pd.DataFrame(y_pred,columns = ['risk_flag'],index = [i+1 for i in range(test_data.shape[0])])\n",
        "\n",
        "sub.index.name = 'id'\n",
        "sub.tail()\n",
        "sub.head()"
      ],
      "execution_count": 30,
      "outputs": [
        {
          "output_type": "execute_result",
          "data": {
            "text/html": [
              "<div>\n",
              "<style scoped>\n",
              "    .dataframe tbody tr th:only-of-type {\n",
              "        vertical-align: middle;\n",
              "    }\n",
              "\n",
              "    .dataframe tbody tr th {\n",
              "        vertical-align: top;\n",
              "    }\n",
              "\n",
              "    .dataframe thead th {\n",
              "        text-align: right;\n",
              "    }\n",
              "</style>\n",
              "<table border=\"1\" class=\"dataframe\">\n",
              "  <thead>\n",
              "    <tr style=\"text-align: right;\">\n",
              "      <th></th>\n",
              "      <th>risk_flag</th>\n",
              "    </tr>\n",
              "    <tr>\n",
              "      <th>id</th>\n",
              "      <th></th>\n",
              "    </tr>\n",
              "  </thead>\n",
              "  <tbody>\n",
              "    <tr>\n",
              "      <th>1</th>\n",
              "      <td>0</td>\n",
              "    </tr>\n",
              "    <tr>\n",
              "      <th>2</th>\n",
              "      <td>0</td>\n",
              "    </tr>\n",
              "    <tr>\n",
              "      <th>3</th>\n",
              "      <td>0</td>\n",
              "    </tr>\n",
              "    <tr>\n",
              "      <th>4</th>\n",
              "      <td>0</td>\n",
              "    </tr>\n",
              "    <tr>\n",
              "      <th>5</th>\n",
              "      <td>0</td>\n",
              "    </tr>\n",
              "  </tbody>\n",
              "</table>\n",
              "</div>"
            ],
            "text/plain": [
              "    risk_flag\n",
              "id           \n",
              "1           0\n",
              "2           0\n",
              "3           0\n",
              "4           0\n",
              "5           0"
            ]
          },
          "metadata": {
            "tags": []
          },
          "execution_count": 30
        }
      ]
    },
    {
      "cell_type": "code",
      "metadata": {
        "id": "dbUVWmvYDKdS"
      },
      "source": [
        "sub.to_csv('rf.csv')"
      ],
      "execution_count": 31,
      "outputs": []
    },
    {
      "cell_type": "code",
      "metadata": {
        "id": "8pwmYLeSD8aS"
      },
      "source": [
        ""
      ],
      "execution_count": null,
      "outputs": []
    }
  ]
}