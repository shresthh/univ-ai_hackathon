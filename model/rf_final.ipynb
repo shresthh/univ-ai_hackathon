{
  "nbformat": 4,
  "nbformat_minor": 0,
  "metadata": {
    "colab": {
      "name": "rf_final.ipynb",
      "provenance": []
    },
    "kernelspec": {
      "name": "python3",
      "display_name": "Python 3"
    },
    "language_info": {
      "name": "python"
    }
  },
  "cells": [
    {
      "cell_type": "code",
      "metadata": {
        "id": "BbKDLtLHZUEQ"
      },
      "source": [
        "import numpy as np\n",
        "import pandas as pd\n",
        "\n",
        "from sklearn.preprocessing import LabelEncoder, StandardScaler, MinMaxScaler\n",
        "from sklearn.model_selection import train_test_split\n",
        "from sklearn.metrics import roc_auc_score, auc\n",
        "from sklearn.model_selection import RandomizedSearchCV, GridSearchCV\n",
        "from sklearn.metrics import roc_auc_score, auc"
      ],
      "execution_count": 194,
      "outputs": []
    },
    {
      "cell_type": "code",
      "metadata": {
        "id": "gsbekFKsZmG-"
      },
      "source": [
        "train = pd.read_csv('train.csv')\n",
        "test = pd.read_csv('test.csv')"
      ],
      "execution_count": 154,
      "outputs": []
    },
    {
      "cell_type": "code",
      "metadata": {
        "colab": {
          "base_uri": "https://localhost:8080/",
          "height": 226
        },
        "id": "Boedjk9hZmAG",
        "outputId": "f3b771df-1988-4700-dbe0-091e2afbdbe9"
      },
      "source": [
        "train.head()"
      ],
      "execution_count": 155,
      "outputs": [
        {
          "output_type": "execute_result",
          "data": {
            "text/html": [
              "<div>\n",
              "<style scoped>\n",
              "    .dataframe tbody tr th:only-of-type {\n",
              "        vertical-align: middle;\n",
              "    }\n",
              "\n",
              "    .dataframe tbody tr th {\n",
              "        vertical-align: top;\n",
              "    }\n",
              "\n",
              "    .dataframe thead th {\n",
              "        text-align: right;\n",
              "    }\n",
              "</style>\n",
              "<table border=\"1\" class=\"dataframe\">\n",
              "  <thead>\n",
              "    <tr style=\"text-align: right;\">\n",
              "      <th></th>\n",
              "      <th>Id</th>\n",
              "      <th>income</th>\n",
              "      <th>age</th>\n",
              "      <th>experience</th>\n",
              "      <th>married</th>\n",
              "      <th>house_ownership</th>\n",
              "      <th>car_ownership</th>\n",
              "      <th>profession</th>\n",
              "      <th>city</th>\n",
              "      <th>state</th>\n",
              "      <th>current_job_years</th>\n",
              "      <th>current_house_years</th>\n",
              "      <th>risk_flag</th>\n",
              "    </tr>\n",
              "  </thead>\n",
              "  <tbody>\n",
              "    <tr>\n",
              "      <th>0</th>\n",
              "      <td>1</td>\n",
              "      <td>1303835</td>\n",
              "      <td>23</td>\n",
              "      <td>3</td>\n",
              "      <td>single</td>\n",
              "      <td>rented</td>\n",
              "      <td>no</td>\n",
              "      <td>Mechanical_engineer</td>\n",
              "      <td>Rewa</td>\n",
              "      <td>Madhya_Pradesh</td>\n",
              "      <td>3</td>\n",
              "      <td>13</td>\n",
              "      <td>0</td>\n",
              "    </tr>\n",
              "    <tr>\n",
              "      <th>1</th>\n",
              "      <td>2</td>\n",
              "      <td>7574516</td>\n",
              "      <td>40</td>\n",
              "      <td>10</td>\n",
              "      <td>single</td>\n",
              "      <td>rented</td>\n",
              "      <td>no</td>\n",
              "      <td>Software_Developer</td>\n",
              "      <td>Parbhani</td>\n",
              "      <td>Maharashtra</td>\n",
              "      <td>9</td>\n",
              "      <td>13</td>\n",
              "      <td>0</td>\n",
              "    </tr>\n",
              "    <tr>\n",
              "      <th>2</th>\n",
              "      <td>3</td>\n",
              "      <td>3991815</td>\n",
              "      <td>66</td>\n",
              "      <td>4</td>\n",
              "      <td>married</td>\n",
              "      <td>rented</td>\n",
              "      <td>no</td>\n",
              "      <td>Technical_writer</td>\n",
              "      <td>Alappuzha</td>\n",
              "      <td>Kerala</td>\n",
              "      <td>4</td>\n",
              "      <td>10</td>\n",
              "      <td>0</td>\n",
              "    </tr>\n",
              "    <tr>\n",
              "      <th>3</th>\n",
              "      <td>4</td>\n",
              "      <td>6256451</td>\n",
              "      <td>41</td>\n",
              "      <td>2</td>\n",
              "      <td>single</td>\n",
              "      <td>rented</td>\n",
              "      <td>yes</td>\n",
              "      <td>Software_Developer</td>\n",
              "      <td>Bhubaneswar</td>\n",
              "      <td>Odisha</td>\n",
              "      <td>2</td>\n",
              "      <td>12</td>\n",
              "      <td>1</td>\n",
              "    </tr>\n",
              "    <tr>\n",
              "      <th>4</th>\n",
              "      <td>5</td>\n",
              "      <td>5768871</td>\n",
              "      <td>47</td>\n",
              "      <td>11</td>\n",
              "      <td>single</td>\n",
              "      <td>rented</td>\n",
              "      <td>no</td>\n",
              "      <td>Civil_servant</td>\n",
              "      <td>Tiruchirappalli[10]</td>\n",
              "      <td>Tamil_Nadu</td>\n",
              "      <td>3</td>\n",
              "      <td>14</td>\n",
              "      <td>1</td>\n",
              "    </tr>\n",
              "  </tbody>\n",
              "</table>\n",
              "</div>"
            ],
            "text/plain": [
              "   Id   income  age  ...  current_job_years current_house_years risk_flag\n",
              "0   1  1303835   23  ...                  3                  13         0\n",
              "1   2  7574516   40  ...                  9                  13         0\n",
              "2   3  3991815   66  ...                  4                  10         0\n",
              "3   4  6256451   41  ...                  2                  12         1\n",
              "4   5  5768871   47  ...                  3                  14         1\n",
              "\n",
              "[5 rows x 13 columns]"
            ]
          },
          "metadata": {
            "tags": []
          },
          "execution_count": 155
        }
      ]
    },
    {
      "cell_type": "code",
      "metadata": {
        "colab": {
          "base_uri": "https://localhost:8080/"
        },
        "id": "_F0Xb6pbZl5y",
        "outputId": "710a2c20-5c21-4b7a-a223-85d126357951"
      },
      "source": [
        "train.shape"
      ],
      "execution_count": 156,
      "outputs": [
        {
          "output_type": "execute_result",
          "data": {
            "text/plain": [
              "(252000, 13)"
            ]
          },
          "metadata": {
            "tags": []
          },
          "execution_count": 156
        }
      ]
    },
    {
      "cell_type": "code",
      "metadata": {
        "colab": {
          "base_uri": "https://localhost:8080/"
        },
        "id": "CsMyZNmmZl1i",
        "outputId": "9543e661-d6fc-4e49-9422-7e273584ceed"
      },
      "source": [
        "train.columns"
      ],
      "execution_count": 157,
      "outputs": [
        {
          "output_type": "execute_result",
          "data": {
            "text/plain": [
              "Index(['Id', 'income', 'age', 'experience', 'married', 'house_ownership',\n",
              "       'car_ownership', 'profession', 'city', 'state', 'current_job_years',\n",
              "       'current_house_years', 'risk_flag'],\n",
              "      dtype='object')"
            ]
          },
          "metadata": {
            "tags": []
          },
          "execution_count": 157
        }
      ]
    },
    {
      "cell_type": "code",
      "metadata": {
        "colab": {
          "base_uri": "https://localhost:8080/"
        },
        "id": "tdvbDFoxZlz3",
        "outputId": "6bce240b-e012-4f9d-b1ec-e4d8cc256540"
      },
      "source": [
        "train.info()"
      ],
      "execution_count": 158,
      "outputs": [
        {
          "output_type": "stream",
          "text": [
            "<class 'pandas.core.frame.DataFrame'>\n",
            "RangeIndex: 252000 entries, 0 to 251999\n",
            "Data columns (total 13 columns):\n",
            " #   Column               Non-Null Count   Dtype \n",
            "---  ------               --------------   ----- \n",
            " 0   Id                   252000 non-null  int64 \n",
            " 1   income               252000 non-null  int64 \n",
            " 2   age                  252000 non-null  int64 \n",
            " 3   experience           252000 non-null  int64 \n",
            " 4   married              252000 non-null  object\n",
            " 5   house_ownership      252000 non-null  object\n",
            " 6   car_ownership        252000 non-null  object\n",
            " 7   profession           252000 non-null  object\n",
            " 8   city                 252000 non-null  object\n",
            " 9   state                252000 non-null  object\n",
            " 10  current_job_years    252000 non-null  int64 \n",
            " 11  current_house_years  252000 non-null  int64 \n",
            " 12  risk_flag            252000 non-null  int64 \n",
            "dtypes: int64(7), object(6)\n",
            "memory usage: 25.0+ MB\n"
          ],
          "name": "stdout"
        }
      ]
    },
    {
      "cell_type": "code",
      "metadata": {
        "id": "_Vc7Xu2yuJXh"
      },
      "source": [
        "import matplotlib.pyplot as plt # for data visualization purposes\n",
        "import seaborn as sns # for statistical data visualization"
      ],
      "execution_count": 159,
      "outputs": []
    },
    {
      "cell_type": "code",
      "metadata": {
        "colab": {
          "base_uri": "https://localhost:8080/",
          "height": 363
        },
        "id": "jknLubBQZlxQ",
        "outputId": "aae7e2a5-accf-49ad-a583-c93c9ed1581a"
      },
      "source": [
        "corr = train.corr()\n",
        "sns.heatmap(corr, annot=True)\n",
        "plt.show()"
      ],
      "execution_count": 160,
      "outputs": [
        {
          "output_type": "display_data",
          "data": {
            "image/png": "[encoded data removed]",
            "text/plain": [
              "<Figure size 432x288 with 2 Axes>"
            ]
          },
          "metadata": {
            "tags": [],
            "needs_background": "light"
          }
        }
      ]
    },
    {
      "cell_type": "code",
      "metadata": {
        "colab": {
          "base_uri": "https://localhost:8080/"
        },
        "id": "XkZ8WUZ4Zluo",
        "outputId": "ee9ae2b8-6dee-487c-b209-fbb3d7f90686"
      },
      "source": [
        "numerical = [var for var in train.columns if train[var].dtype!='O']\n",
        "print('There are {} numerical variables'.format(len(numerical)))\n",
        "print('The numerical variables are :', numerical)\n",
        "\n"
      ],
      "execution_count": 161,
      "outputs": [
        {
          "output_type": "stream",
          "text": [
            "There are 7 numerical variables\n",
            "The numerical variables are : ['Id', 'income', 'age', 'experience', 'current_job_years', 'current_house_years', 'risk_flag']\n"
          ],
          "name": "stdout"
        }
      ]
    },
    {
      "cell_type": "code",
      "metadata": {
        "colab": {
          "base_uri": "https://localhost:8080/",
          "height": 206
        },
        "id": "_q1vovPtZlsN",
        "outputId": "c24814f6-02e2-4627-b545-49c72a915ff3"
      },
      "source": [
        "train[numerical].head()"
      ],
      "execution_count": 162,
      "outputs": [
        {
          "output_type": "execute_result",
          "data": {
            "text/html": [
              "<div>\n",
              "<style scoped>\n",
              "    .dataframe tbody tr th:only-of-type {\n",
              "        vertical-align: middle;\n",
              "    }\n",
              "\n",
              "    .dataframe tbody tr th {\n",
              "        vertical-align: top;\n",
              "    }\n",
              "\n",
              "    .dataframe thead th {\n",
              "        text-align: right;\n",
              "    }\n",
              "</style>\n",
              "<table border=\"1\" class=\"dataframe\">\n",
              "  <thead>\n",
              "    <tr style=\"text-align: right;\">\n",
              "      <th></th>\n",
              "      <th>Id</th>\n",
              "      <th>income</th>\n",
              "      <th>age</th>\n",
              "      <th>experience</th>\n",
              "      <th>current_job_years</th>\n",
              "      <th>current_house_years</th>\n",
              "      <th>risk_flag</th>\n",
              "    </tr>\n",
              "  </thead>\n",
              "  <tbody>\n",
              "    <tr>\n",
              "      <th>0</th>\n",
              "      <td>1</td>\n",
              "      <td>1303835</td>\n",
              "      <td>23</td>\n",
              "      <td>3</td>\n",
              "      <td>3</td>\n",
              "      <td>13</td>\n",
              "      <td>0</td>\n",
              "    </tr>\n",
              "    <tr>\n",
              "      <th>1</th>\n",
              "      <td>2</td>\n",
              "      <td>7574516</td>\n",
              "      <td>40</td>\n",
              "      <td>10</td>\n",
              "      <td>9</td>\n",
              "      <td>13</td>\n",
              "      <td>0</td>\n",
              "    </tr>\n",
              "    <tr>\n",
              "      <th>2</th>\n",
              "      <td>3</td>\n",
              "      <td>3991815</td>\n",
              "      <td>66</td>\n",
              "      <td>4</td>\n",
              "      <td>4</td>\n",
              "      <td>10</td>\n",
              "      <td>0</td>\n",
              "    </tr>\n",
              "    <tr>\n",
              "      <th>3</th>\n",
              "      <td>4</td>\n",
              "      <td>6256451</td>\n",
              "      <td>41</td>\n",
              "      <td>2</td>\n",
              "      <td>2</td>\n",
              "      <td>12</td>\n",
              "      <td>1</td>\n",
              "    </tr>\n",
              "    <tr>\n",
              "      <th>4</th>\n",
              "      <td>5</td>\n",
              "      <td>5768871</td>\n",
              "      <td>47</td>\n",
              "      <td>11</td>\n",
              "      <td>3</td>\n",
              "      <td>14</td>\n",
              "      <td>1</td>\n",
              "    </tr>\n",
              "  </tbody>\n",
              "</table>\n",
              "</div>"
            ],
            "text/plain": [
              "   Id   income  age  ...  current_job_years  current_house_years  risk_flag\n",
              "0   1  1303835   23  ...                  3                   13          0\n",
              "1   2  7574516   40  ...                  9                   13          0\n",
              "2   3  3991815   66  ...                  4                   10          0\n",
              "3   4  6256451   41  ...                  2                   12          1\n",
              "4   5  5768871   47  ...                  3                   14          1\n",
              "\n",
              "[5 rows x 7 columns]"
            ]
          },
          "metadata": {
            "tags": []
          },
          "execution_count": 162
        }
      ]
    },
    {
      "cell_type": "code",
      "metadata": {
        "colab": {
          "base_uri": "https://localhost:8080/"
        },
        "id": "I7bHrH9IZlpW",
        "outputId": "428b8303-c1be-4093-b641-392579fa2923"
      },
      "source": [
        "train[numerical].isnull().sum()"
      ],
      "execution_count": 163,
      "outputs": [
        {
          "output_type": "execute_result",
          "data": {
            "text/plain": [
              "Id                     0\n",
              "income                 0\n",
              "age                    0\n",
              "experience             0\n",
              "current_job_years      0\n",
              "current_house_years    0\n",
              "risk_flag              0\n",
              "dtype: int64"
            ]
          },
          "metadata": {
            "tags": []
          },
          "execution_count": 163
        }
      ]
    },
    {
      "cell_type": "code",
      "metadata": {
        "colab": {
          "base_uri": "https://localhost:8080/"
        },
        "id": "iLZ4hKMFZllN",
        "outputId": "db01145e-9926-4180-fe9c-d9649da400b5"
      },
      "source": [
        "categorical = [var for var in train.columns if train[var].dtype=='O']\n",
        "print('There are {} categorical variables'.format(len(categorical)))\n",
        "print('The categorical variables are :', categorical)"
      ],
      "execution_count": 164,
      "outputs": [
        {
          "output_type": "stream",
          "text": [
            "There are 6 categorical variables\n",
            "The categorical variables are : ['married', 'house_ownership', 'car_ownership', 'profession', 'city', 'state']\n"
          ],
          "name": "stdout"
        }
      ]
    },
    {
      "cell_type": "code",
      "metadata": {
        "colab": {
          "base_uri": "https://localhost:8080/",
          "height": 206
        },
        "id": "DJg4BVoEZljt",
        "outputId": "82ee54a6-0465-4968-8d1e-5704e452a7cf"
      },
      "source": [
        "train[categorical].head()"
      ],
      "execution_count": 165,
      "outputs": [
        {
          "output_type": "execute_result",
          "data": {
            "text/html": [
              "<div>\n",
              "<style scoped>\n",
              "    .dataframe tbody tr th:only-of-type {\n",
              "        vertical-align: middle;\n",
              "    }\n",
              "\n",
              "    .dataframe tbody tr th {\n",
              "        vertical-align: top;\n",
              "    }\n",
              "\n",
              "    .dataframe thead th {\n",
              "        text-align: right;\n",
              "    }\n",
              "</style>\n",
              "<table border=\"1\" class=\"dataframe\">\n",
              "  <thead>\n",
              "    <tr style=\"text-align: right;\">\n",
              "      <th></th>\n",
              "      <th>married</th>\n",
              "      <th>house_ownership</th>\n",
              "      <th>car_ownership</th>\n",
              "      <th>profession</th>\n",
              "      <th>city</th>\n",
              "      <th>state</th>\n",
              "    </tr>\n",
              "  </thead>\n",
              "  <tbody>\n",
              "    <tr>\n",
              "      <th>0</th>\n",
              "      <td>single</td>\n",
              "      <td>rented</td>\n",
              "      <td>no</td>\n",
              "      <td>Mechanical_engineer</td>\n",
              "      <td>Rewa</td>\n",
              "      <td>Madhya_Pradesh</td>\n",
              "    </tr>\n",
              "    <tr>\n",
              "      <th>1</th>\n",
              "      <td>single</td>\n",
              "      <td>rented</td>\n",
              "      <td>no</td>\n",
              "      <td>Software_Developer</td>\n",
              "      <td>Parbhani</td>\n",
              "      <td>Maharashtra</td>\n",
              "    </tr>\n",
              "    <tr>\n",
              "      <th>2</th>\n",
              "      <td>married</td>\n",
              "      <td>rented</td>\n",
              "      <td>no</td>\n",
              "      <td>Technical_writer</td>\n",
              "      <td>Alappuzha</td>\n",
              "      <td>Kerala</td>\n",
              "    </tr>\n",
              "    <tr>\n",
              "      <th>3</th>\n",
              "      <td>single</td>\n",
              "      <td>rented</td>\n",
              "      <td>yes</td>\n",
              "      <td>Software_Developer</td>\n",
              "      <td>Bhubaneswar</td>\n",
              "      <td>Odisha</td>\n",
              "    </tr>\n",
              "    <tr>\n",
              "      <th>4</th>\n",
              "      <td>single</td>\n",
              "      <td>rented</td>\n",
              "      <td>no</td>\n",
              "      <td>Civil_servant</td>\n",
              "      <td>Tiruchirappalli[10]</td>\n",
              "      <td>Tamil_Nadu</td>\n",
              "    </tr>\n",
              "  </tbody>\n",
              "</table>\n",
              "</div>"
            ],
            "text/plain": [
              "   married house_ownership  ...                 city           state\n",
              "0   single          rented  ...                 Rewa  Madhya_Pradesh\n",
              "1   single          rented  ...             Parbhani     Maharashtra\n",
              "2  married          rented  ...            Alappuzha          Kerala\n",
              "3   single          rented  ...          Bhubaneswar          Odisha\n",
              "4   single          rented  ...  Tiruchirappalli[10]      Tamil_Nadu\n",
              "\n",
              "[5 rows x 6 columns]"
            ]
          },
          "metadata": {
            "tags": []
          },
          "execution_count": 165
        }
      ]
    },
    {
      "cell_type": "code",
      "metadata": {
        "colab": {
          "base_uri": "https://localhost:8080/"
        },
        "id": "khDF8zXNZlfe",
        "outputId": "ae98c445-4879-4825-eb62-8a79df4bdd34"
      },
      "source": [
        "train[categorical].isnull().sum()"
      ],
      "execution_count": 166,
      "outputs": [
        {
          "output_type": "execute_result",
          "data": {
            "text/plain": [
              "married            0\n",
              "house_ownership    0\n",
              "car_ownership      0\n",
              "profession         0\n",
              "city               0\n",
              "state              0\n",
              "dtype: int64"
            ]
          },
          "metadata": {
            "tags": []
          },
          "execution_count": 166
        }
      ]
    },
    {
      "cell_type": "code",
      "metadata": {
        "colab": {
          "base_uri": "https://localhost:8080/"
        },
        "id": "ZxVgboZQZld6",
        "outputId": "52a313e7-663f-4b36-b600-0ff67f31d29f"
      },
      "source": [
        "for var in categorical: \n",
        "    print(train[var].value_counts())\n",
        "    print(train[var].value_counts()/np.float(len(train)))\n",
        "    print()"
      ],
      "execution_count": 167,
      "outputs": [
        {
          "output_type": "stream",
          "text": [
            "single     226272\n",
            "married     25728\n",
            "Name: married, dtype: int64\n",
            "single     0.897905\n",
            "married    0.102095\n",
            "Name: married, dtype: float64\n",
            "\n",
            "rented          231898\n",
            "owned            12918\n",
            "norent_noown      7184\n",
            "Name: house_ownership, dtype: int64\n",
            "rented          0.920230\n",
            "owned           0.051262\n",
            "norent_noown    0.028508\n",
            "Name: house_ownership, dtype: float64\n",
            "\n",
            "no     176000\n",
            "yes     76000\n",
            "Name: car_ownership, dtype: int64\n",
            "no     0.698413\n",
            "yes    0.301587\n",
            "Name: car_ownership, dtype: float64\n",
            "\n",
            "Physician                     5957\n",
            "Statistician                  5806\n",
            "Web_designer                  5397\n",
            "Psychologist                  5390\n",
            "Computer_hardware_engineer    5372\n",
            "Drafter                       5359\n",
            "Magistrate                    5357\n",
            "Fashion_Designer              5304\n",
            "Air_traffic_controller        5281\n",
            "Comedian                      5259\n",
            "Industrial_Engineer           5250\n",
            "Mechanical_engineer           5217\n",
            "Chemical_engineer             5205\n",
            "Technical_writer              5195\n",
            "Hotel_Manager                 5178\n",
            "Financial_Analyst             5167\n",
            "Graphic_Designer              5166\n",
            "Flight_attendant              5128\n",
            "Biomedical_Engineer           5127\n",
            "Secretary                     5061\n",
            "Software_Developer            5053\n",
            "Petroleum_Engineer            5041\n",
            "Police_officer                5035\n",
            "Computer_operator             4990\n",
            "Politician                    4944\n",
            "Microbiologist                4881\n",
            "Technician                    4864\n",
            "Artist                        4861\n",
            "Lawyer                        4818\n",
            "Consultant                    4808\n",
            "Dentist                       4782\n",
            "Scientist                     4781\n",
            "Surgeon                       4772\n",
            "Aviator                       4758\n",
            "Technology_specialist         4737\n",
            "Design_Engineer               4729\n",
            "Surveyor                      4714\n",
            "Geologist                     4672\n",
            "Analyst                       4668\n",
            "Army_officer                  4661\n",
            "Architect                     4657\n",
            "Chef                          4635\n",
            "Librarian                     4628\n",
            "Civil_engineer                4616\n",
            "Designer                      4598\n",
            "Economist                     4573\n",
            "Firefighter                   4507\n",
            "Chartered_Accountant          4493\n",
            "Civil_servant                 4413\n",
            "Official                      4087\n",
            "Engineer                      4048\n",
            "Name: profession, dtype: int64\n",
            "Physician                     0.023639\n",
            "Statistician                  0.023040\n",
            "Web_designer                  0.021417\n",
            "Psychologist                  0.021389\n",
            "Computer_hardware_engineer    0.021317\n",
            "Drafter                       0.021266\n",
            "Magistrate                    0.021258\n",
            "Fashion_Designer              0.021048\n",
            "Air_traffic_controller        0.020956\n",
            "Comedian                      0.020869\n",
            "Industrial_Engineer           0.020833\n",
            "Mechanical_engineer           0.020702\n",
            "Chemical_engineer             0.020655\n",
            "Technical_writer              0.020615\n",
            "Hotel_Manager                 0.020548\n",
            "Financial_Analyst             0.020504\n",
            "Graphic_Designer              0.020500\n",
            "Flight_attendant              0.020349\n",
            "Biomedical_Engineer           0.020345\n",
            "Secretary                     0.020083\n",
            "Software_Developer            0.020052\n",
            "Petroleum_Engineer            0.020004\n",
            "Police_officer                0.019980\n",
            "Computer_operator             0.019802\n",
            "Politician                    0.019619\n",
            "Microbiologist                0.019369\n",
            "Technician                    0.019302\n",
            "Artist                        0.019290\n",
            "Lawyer                        0.019119\n",
            "Consultant                    0.019079\n",
            "Dentist                       0.018976\n",
            "Scientist                     0.018972\n",
            "Surgeon                       0.018937\n",
            "Aviator                       0.018881\n",
            "Technology_specialist         0.018798\n",
            "Design_Engineer               0.018766\n",
            "Surveyor                      0.018706\n",
            "Geologist                     0.018540\n",
            "Analyst                       0.018524\n",
            "Army_officer                  0.018496\n",
            "Architect                     0.018480\n",
            "Chef                          0.018393\n",
            "Librarian                     0.018365\n",
            "Civil_engineer                0.018317\n",
            "Designer                      0.018246\n",
            "Economist                     0.018147\n",
            "Firefighter                   0.017885\n",
            "Chartered_Accountant          0.017829\n",
            "Civil_servant                 0.017512\n",
            "Official                      0.016218\n",
            "Engineer                      0.016063\n",
            "Name: profession, dtype: float64\n",
            "\n",
            "Vijayanagaram       1259\n",
            "Bhopal              1208\n",
            "Bulandshahr         1185\n",
            "Saharsa[29]         1180\n",
            "Vijayawada          1172\n",
            "                    ... \n",
            "Ujjain               486\n",
            "Warangal[11][12]     459\n",
            "Bettiah[33]          457\n",
            "Katni                448\n",
            "Karaikudi            431\n",
            "Name: city, Length: 317, dtype: int64\n",
            "Vijayanagaram       0.004996\n",
            "Bhopal              0.004794\n",
            "Bulandshahr         0.004702\n",
            "Saharsa[29]         0.004683\n",
            "Vijayawada          0.004651\n",
            "                      ...   \n",
            "Ujjain              0.001929\n",
            "Warangal[11][12]    0.001821\n",
            "Bettiah[33]         0.001813\n",
            "Katni               0.001778\n",
            "Karaikudi           0.001710\n",
            "Name: city, Length: 317, dtype: float64\n",
            "\n",
            "Uttar_Pradesh        28400\n",
            "Maharashtra          25562\n",
            "Andhra_Pradesh       25297\n",
            "West_Bengal          23483\n",
            "Bihar                19780\n",
            "Tamil_Nadu           16537\n",
            "Madhya_Pradesh       14122\n",
            "Karnataka            11855\n",
            "Gujarat              11408\n",
            "Rajasthan             9174\n",
            "Jharkhand             8965\n",
            "Haryana               7890\n",
            "Telangana             7524\n",
            "Assam                 7062\n",
            "Kerala                5805\n",
            "Delhi                 5490\n",
            "Punjab                4720\n",
            "Odisha                4658\n",
            "Chhattisgarh          3834\n",
            "Uttarakhand           1874\n",
            "Jammu_and_Kashmir     1780\n",
            "Puducherry            1433\n",
            "Mizoram                849\n",
            "Manipur                849\n",
            "Himachal_Pradesh       833\n",
            "Tripura                809\n",
            "Uttar_Pradesh[5]       743\n",
            "Chandigarh             656\n",
            "Sikkim                 608\n",
            "Name: state, dtype: int64\n",
            "Uttar_Pradesh        0.112698\n",
            "Maharashtra          0.101437\n",
            "Andhra_Pradesh       0.100385\n",
            "West_Bengal          0.093187\n",
            "Bihar                0.078492\n",
            "Tamil_Nadu           0.065623\n",
            "Madhya_Pradesh       0.056040\n",
            "Karnataka            0.047044\n",
            "Gujarat              0.045270\n",
            "Rajasthan            0.036405\n",
            "Jharkhand            0.035575\n",
            "Haryana              0.031310\n",
            "Telangana            0.029857\n",
            "Assam                0.028024\n",
            "Kerala               0.023036\n",
            "Delhi                0.021786\n",
            "Punjab               0.018730\n",
            "Odisha               0.018484\n",
            "Chhattisgarh         0.015214\n",
            "Uttarakhand          0.007437\n",
            "Jammu_and_Kashmir    0.007063\n",
            "Puducherry           0.005687\n",
            "Mizoram              0.003369\n",
            "Manipur              0.003369\n",
            "Himachal_Pradesh     0.003306\n",
            "Tripura              0.003210\n",
            "Uttar_Pradesh[5]     0.002948\n",
            "Chandigarh           0.002603\n",
            "Sikkim               0.002413\n",
            "Name: state, dtype: float64\n",
            "\n"
          ],
          "name": "stdout"
        }
      ]
    },
    {
      "cell_type": "code",
      "metadata": {
        "colab": {
          "base_uri": "https://localhost:8080/"
        },
        "id": "-wYfkoBnZlbg",
        "outputId": "829f3451-834a-4e21-9c50-459c992cbb47"
      },
      "source": [
        "\n",
        "\n",
        "# check for cardinality in categorical variables\n",
        "for var in categorical:\n",
        "    print(var, ' contains ', len(train[var].unique()), ' labels')\n",
        "\n"
      ],
      "execution_count": 168,
      "outputs": [
        {
          "output_type": "stream",
          "text": [
            "married  contains  2  labels\n",
            "house_ownership  contains  3  labels\n",
            "car_ownership  contains  2  labels\n",
            "profession  contains  51  labels\n",
            "city  contains  317  labels\n",
            "state  contains  29  labels\n"
          ],
          "name": "stdout"
        }
      ]
    },
    {
      "cell_type": "code",
      "metadata": {
        "colab": {
          "base_uri": "https://localhost:8080/",
          "height": 226
        },
        "id": "hRMCimAkZlYg",
        "outputId": "223cfa20-1431-4147-e0fd-e95eefa9fd96"
      },
      "source": [
        "from sklearn import preprocessing \n",
        "label_encoder = preprocessing.LabelEncoder() \n",
        "\n",
        "train['married'] = label_encoder.fit_transform(train['married'])\n",
        "test['married'] = label_encoder.fit_transform(test['married'])\n",
        "train['house_ownership'] = label_encoder.fit_transform(train['house_ownership'])\n",
        "test['house_ownership'] = label_encoder.fit_transform(test['house_ownership'])\n",
        "train['car_ownership'] = label_encoder.fit_transform(train['car_ownership'])\n",
        "test['car_ownership'] = label_encoder.fit_transform(test['car_ownership'])\n",
        "train['profession'] = label_encoder.fit_transform(train['profession'])\n",
        "test['profession'] = label_encoder.fit_transform(test['profession'])\n",
        "train['city'] = label_encoder.fit_transform(train['city'])\n",
        "test['city'] = label_encoder.fit_transform(test['city'])\n",
        "train['state'] = label_encoder.fit_transform(train['state'])\n",
        "test['state'] = label_encoder.fit_transform(test['state'])\n",
        "train.head()\n",
        "\n"
      ],
      "execution_count": 169,
      "outputs": [
        {
          "output_type": "execute_result",
          "data": {
            "text/html": [
              "<div>\n",
              "<style scoped>\n",
              "    .dataframe tbody tr th:only-of-type {\n",
              "        vertical-align: middle;\n",
              "    }\n",
              "\n",
              "    .dataframe tbody tr th {\n",
              "        vertical-align: top;\n",
              "    }\n",
              "\n",
              "    .dataframe thead th {\n",
              "        text-align: right;\n",
              "    }\n",
              "</style>\n",
              "<table border=\"1\" class=\"dataframe\">\n",
              "  <thead>\n",
              "    <tr style=\"text-align: right;\">\n",
              "      <th></th>\n",
              "      <th>Id</th>\n",
              "      <th>income</th>\n",
              "      <th>age</th>\n",
              "      <th>experience</th>\n",
              "      <th>married</th>\n",
              "      <th>house_ownership</th>\n",
              "      <th>car_ownership</th>\n",
              "      <th>profession</th>\n",
              "      <th>city</th>\n",
              "      <th>state</th>\n",
              "      <th>current_job_years</th>\n",
              "      <th>current_house_years</th>\n",
              "      <th>risk_flag</th>\n",
              "    </tr>\n",
              "  </thead>\n",
              "  <tbody>\n",
              "    <tr>\n",
              "      <th>0</th>\n",
              "      <td>1</td>\n",
              "      <td>1303835</td>\n",
              "      <td>23</td>\n",
              "      <td>3</td>\n",
              "      <td>1</td>\n",
              "      <td>2</td>\n",
              "      <td>0</td>\n",
              "      <td>33</td>\n",
              "      <td>251</td>\n",
              "      <td>13</td>\n",
              "      <td>3</td>\n",
              "      <td>13</td>\n",
              "      <td>0</td>\n",
              "    </tr>\n",
              "    <tr>\n",
              "      <th>1</th>\n",
              "      <td>2</td>\n",
              "      <td>7574516</td>\n",
              "      <td>40</td>\n",
              "      <td>10</td>\n",
              "      <td>1</td>\n",
              "      <td>2</td>\n",
              "      <td>0</td>\n",
              "      <td>43</td>\n",
              "      <td>227</td>\n",
              "      <td>14</td>\n",
              "      <td>9</td>\n",
              "      <td>13</td>\n",
              "      <td>0</td>\n",
              "    </tr>\n",
              "    <tr>\n",
              "      <th>2</th>\n",
              "      <td>3</td>\n",
              "      <td>3991815</td>\n",
              "      <td>66</td>\n",
              "      <td>4</td>\n",
              "      <td>0</td>\n",
              "      <td>2</td>\n",
              "      <td>0</td>\n",
              "      <td>47</td>\n",
              "      <td>8</td>\n",
              "      <td>12</td>\n",
              "      <td>4</td>\n",
              "      <td>10</td>\n",
              "      <td>0</td>\n",
              "    </tr>\n",
              "    <tr>\n",
              "      <th>3</th>\n",
              "      <td>4</td>\n",
              "      <td>6256451</td>\n",
              "      <td>41</td>\n",
              "      <td>2</td>\n",
              "      <td>1</td>\n",
              "      <td>2</td>\n",
              "      <td>1</td>\n",
              "      <td>43</td>\n",
              "      <td>54</td>\n",
              "      <td>17</td>\n",
              "      <td>2</td>\n",
              "      <td>12</td>\n",
              "      <td>1</td>\n",
              "    </tr>\n",
              "    <tr>\n",
              "      <th>4</th>\n",
              "      <td>5</td>\n",
              "      <td>5768871</td>\n",
              "      <td>47</td>\n",
              "      <td>11</td>\n",
              "      <td>1</td>\n",
              "      <td>2</td>\n",
              "      <td>0</td>\n",
              "      <td>11</td>\n",
              "      <td>296</td>\n",
              "      <td>22</td>\n",
              "      <td>3</td>\n",
              "      <td>14</td>\n",
              "      <td>1</td>\n",
              "    </tr>\n",
              "  </tbody>\n",
              "</table>\n",
              "</div>"
            ],
            "text/plain": [
              "   Id   income  age  ...  current_job_years  current_house_years  risk_flag\n",
              "0   1  1303835   23  ...                  3                   13          0\n",
              "1   2  7574516   40  ...                  9                   13          0\n",
              "2   3  3991815   66  ...                  4                   10          0\n",
              "3   4  6256451   41  ...                  2                   12          1\n",
              "4   5  5768871   47  ...                  3                   14          1\n",
              "\n",
              "[5 rows x 13 columns]"
            ]
          },
          "metadata": {
            "tags": []
          },
          "execution_count": 169
        }
      ]
    },
    {
      "cell_type": "code",
      "metadata": {
        "colab": {
          "base_uri": "https://localhost:8080/",
          "height": 226
        },
        "id": "hj-7nO_876i7",
        "outputId": "71a7bc16-b077-4e7a-8a3a-59059221c8f3"
      },
      "source": [
        "test.head()"
      ],
      "execution_count": 170,
      "outputs": [
        {
          "output_type": "execute_result",
          "data": {
            "text/html": [
              "<div>\n",
              "<style scoped>\n",
              "    .dataframe tbody tr th:only-of-type {\n",
              "        vertical-align: middle;\n",
              "    }\n",
              "\n",
              "    .dataframe tbody tr th {\n",
              "        vertical-align: top;\n",
              "    }\n",
              "\n",
              "    .dataframe thead th {\n",
              "        text-align: right;\n",
              "    }\n",
              "</style>\n",
              "<table border=\"1\" class=\"dataframe\">\n",
              "  <thead>\n",
              "    <tr style=\"text-align: right;\">\n",
              "      <th></th>\n",
              "      <th>id</th>\n",
              "      <th>income</th>\n",
              "      <th>age</th>\n",
              "      <th>experience</th>\n",
              "      <th>married</th>\n",
              "      <th>house_ownership</th>\n",
              "      <th>car_ownership</th>\n",
              "      <th>profession</th>\n",
              "      <th>city</th>\n",
              "      <th>state</th>\n",
              "      <th>current_job_years</th>\n",
              "      <th>current_house_years</th>\n",
              "    </tr>\n",
              "  </thead>\n",
              "  <tbody>\n",
              "    <tr>\n",
              "      <th>0</th>\n",
              "      <td>1</td>\n",
              "      <td>7393090</td>\n",
              "      <td>59</td>\n",
              "      <td>19</td>\n",
              "      <td>1</td>\n",
              "      <td>2</td>\n",
              "      <td>0</td>\n",
              "      <td>26</td>\n",
              "      <td>181</td>\n",
              "      <td>28</td>\n",
              "      <td>4</td>\n",
              "      <td>13</td>\n",
              "    </tr>\n",
              "    <tr>\n",
              "      <th>1</th>\n",
              "      <td>2</td>\n",
              "      <td>1215004</td>\n",
              "      <td>25</td>\n",
              "      <td>5</td>\n",
              "      <td>1</td>\n",
              "      <td>2</td>\n",
              "      <td>0</td>\n",
              "      <td>24</td>\n",
              "      <td>131</td>\n",
              "      <td>14</td>\n",
              "      <td>5</td>\n",
              "      <td>10</td>\n",
              "    </tr>\n",
              "    <tr>\n",
              "      <th>2</th>\n",
              "      <td>3</td>\n",
              "      <td>8901342</td>\n",
              "      <td>50</td>\n",
              "      <td>12</td>\n",
              "      <td>1</td>\n",
              "      <td>2</td>\n",
              "      <td>0</td>\n",
              "      <td>30</td>\n",
              "      <td>290</td>\n",
              "      <td>14</td>\n",
              "      <td>9</td>\n",
              "      <td>14</td>\n",
              "    </tr>\n",
              "    <tr>\n",
              "      <th>3</th>\n",
              "      <td>4</td>\n",
              "      <td>1944421</td>\n",
              "      <td>49</td>\n",
              "      <td>9</td>\n",
              "      <td>0</td>\n",
              "      <td>2</td>\n",
              "      <td>1</td>\n",
              "      <td>1</td>\n",
              "      <td>171</td>\n",
              "      <td>14</td>\n",
              "      <td>3</td>\n",
              "      <td>12</td>\n",
              "    </tr>\n",
              "    <tr>\n",
              "      <th>4</th>\n",
              "      <td>5</td>\n",
              "      <td>13429</td>\n",
              "      <td>25</td>\n",
              "      <td>18</td>\n",
              "      <td>1</td>\n",
              "      <td>2</td>\n",
              "      <td>1</td>\n",
              "      <td>12</td>\n",
              "      <td>39</td>\n",
              "      <td>28</td>\n",
              "      <td>13</td>\n",
              "      <td>11</td>\n",
              "    </tr>\n",
              "  </tbody>\n",
              "</table>\n",
              "</div>"
            ],
            "text/plain": [
              "   id   income  age  ...  state  current_job_years  current_house_years\n",
              "0   1  7393090   59  ...     28                  4                   13\n",
              "1   2  1215004   25  ...     14                  5                   10\n",
              "2   3  8901342   50  ...     14                  9                   14\n",
              "3   4  1944421   49  ...     14                  3                   12\n",
              "4   5    13429   25  ...     28                 13                   11\n",
              "\n",
              "[5 rows x 12 columns]"
            ]
          },
          "metadata": {
            "tags": []
          },
          "execution_count": 170
        }
      ]
    },
    {
      "cell_type": "code",
      "metadata": {
        "colab": {
          "base_uri": "https://localhost:8080/"
        },
        "id": "x9iq8FT1ZlUi",
        "outputId": "f09caad0-3c5f-43d3-eacd-b1bf39936ad0"
      },
      "source": [
        "train.shape"
      ],
      "execution_count": 171,
      "outputs": [
        {
          "output_type": "execute_result",
          "data": {
            "text/plain": [
              "(252000, 13)"
            ]
          },
          "metadata": {
            "tags": []
          },
          "execution_count": 171
        }
      ]
    },
    {
      "cell_type": "code",
      "metadata": {
        "colab": {
          "base_uri": "https://localhost:8080/"
        },
        "id": "8sv64MRgZlS8",
        "outputId": "1160f589-fa2a-4056-b79b-fe4308ae0a89"
      },
      "source": [
        "train['age'].describe()"
      ],
      "execution_count": 172,
      "outputs": [
        {
          "output_type": "execute_result",
          "data": {
            "text/plain": [
              "count    252000.000000\n",
              "mean         49.954071\n",
              "std          17.063863\n",
              "min          21.000000\n",
              "25%          35.000000\n",
              "50%          50.000000\n",
              "75%          65.000000\n",
              "max          79.000000\n",
              "Name: age, dtype: float64"
            ]
          },
          "metadata": {
            "tags": []
          },
          "execution_count": 172
        }
      ]
    },
    {
      "cell_type": "code",
      "metadata": {
        "colab": {
          "base_uri": "https://localhost:8080/"
        },
        "id": "Az_XP2iRZlQX",
        "outputId": "5f4da003-91c6-4b73-a858-963503f1dd10"
      },
      "source": [
        "train['age'] = pd.cut(x = train['age'], bins = [0,20,25,30,35,40,45,50, 55, 60, 65,70,75,80], labels = [0, 1, 2, 3, 4, 5,6,7,8,9,10,11,12])\n",
        "train['age'] = train['age'].astype('int64') \n",
        "train['age'].isnull().sum()"
      ],
      "execution_count": 173,
      "outputs": [
        {
          "output_type": "execute_result",
          "data": {
            "text/plain": [
              "0"
            ]
          },
          "metadata": {
            "tags": []
          },
          "execution_count": 173
        }
      ]
    },
    {
      "cell_type": "code",
      "metadata": {
        "colab": {
          "base_uri": "https://localhost:8080/"
        },
        "id": "BGvD4oIY6PFj",
        "outputId": "004e0c2a-c8ab-486a-c121-aff8ee184c3c"
      },
      "source": [
        "test['age'] = pd.cut(x = test['age'], bins = [0,20,25,30,35,40,45,50, 55, 60, 65,70,75,80], labels = [0, 1, 2, 3, 4, 5,6,7,8,9,10,11,12])\n",
        "test['age'] = test['age'].astype('int64') \n",
        "test['age'].isnull().sum()"
      ],
      "execution_count": 174,
      "outputs": [
        {
          "output_type": "execute_result",
          "data": {
            "text/plain": [
              "0"
            ]
          },
          "metadata": {
            "tags": []
          },
          "execution_count": 174
        }
      ]
    },
    {
      "cell_type": "code",
      "metadata": {
        "colab": {
          "base_uri": "https://localhost:8080/"
        },
        "id": "6LFbqNajZlLJ",
        "outputId": "e694764e-65c3-4397-fb5b-865068591564"
      },
      "source": [
        "train['income'].describe()"
      ],
      "execution_count": 175,
      "outputs": [
        {
          "output_type": "execute_result",
          "data": {
            "text/plain": [
              "count    2.520000e+05\n",
              "mean     4.997117e+06\n",
              "std      2.878311e+06\n",
              "min      1.031000e+04\n",
              "25%      2.503015e+06\n",
              "50%      5.000694e+06\n",
              "75%      7.477502e+06\n",
              "max      9.999938e+06\n",
              "Name: income, dtype: float64"
            ]
          },
          "metadata": {
            "tags": []
          },
          "execution_count": 175
        }
      ]
    },
    {
      "cell_type": "code",
      "metadata": {
        "colab": {
          "base_uri": "https://localhost:8080/"
        },
        "id": "0oYkF3Ki3uLS",
        "outputId": "b1e06b3d-b8fe-4eaa-d8f0-12c588331e2b"
      },
      "source": [
        "train[numerical].info()"
      ],
      "execution_count": 176,
      "outputs": [
        {
          "output_type": "stream",
          "text": [
            "<class 'pandas.core.frame.DataFrame'>\n",
            "RangeIndex: 252000 entries, 0 to 251999\n",
            "Data columns (total 7 columns):\n",
            " #   Column               Non-Null Count   Dtype\n",
            "---  ------               --------------   -----\n",
            " 0   Id                   252000 non-null  int64\n",
            " 1   income               252000 non-null  int64\n",
            " 2   age                  252000 non-null  int64\n",
            " 3   experience           252000 non-null  int64\n",
            " 4   current_job_years    252000 non-null  int64\n",
            " 5   current_house_years  252000 non-null  int64\n",
            " 6   risk_flag            252000 non-null  int64\n",
            "dtypes: int64(7)\n",
            "memory usage: 13.5 MB\n"
          ],
          "name": "stdout"
        }
      ]
    },
    {
      "cell_type": "code",
      "metadata": {
        "id": "Vh08dvV-ZlHz"
      },
      "source": [
        "mx = MinMaxScaler()\n",
        "col = 'income'\n",
        "train[col] = mx.fit_transform(train[col].values.reshape(-1,1))\n",
        "test[col] = mx.transform(test[col].values.reshape(-1,1))"
      ],
      "execution_count": 177,
      "outputs": []
    },
    {
      "cell_type": "code",
      "metadata": {
        "colab": {
          "base_uri": "https://localhost:8080/"
        },
        "id": "I7No4S_WZlF9",
        "outputId": "5f5f2e72-ec66-4fd0-f0c7-a0cb8fe9ab80"
      },
      "source": [
        "train['experience'].describe()"
      ],
      "execution_count": 178,
      "outputs": [
        {
          "output_type": "execute_result",
          "data": {
            "text/plain": [
              "count    252000.000000\n",
              "mean         10.084437\n",
              "std           6.002590\n",
              "min           0.000000\n",
              "25%           5.000000\n",
              "50%          10.000000\n",
              "75%          15.000000\n",
              "max          20.000000\n",
              "Name: experience, dtype: float64"
            ]
          },
          "metadata": {
            "tags": []
          },
          "execution_count": 178
        }
      ]
    },
    {
      "cell_type": "code",
      "metadata": {
        "colab": {
          "base_uri": "https://localhost:8080/"
        },
        "id": "Oi7Bys1796bs",
        "outputId": "bbc09062-f057-4150-bb5e-e736fa3f766d"
      },
      "source": [
        "train['experience'].value_counts()"
      ],
      "execution_count": 179,
      "outputs": [
        {
          "output_type": "execute_result",
          "data": {
            "text/plain": [
              "6     13158\n",
              "9     12936\n",
              "12    12800\n",
              "18    12601\n",
              "10    12503\n",
              "5     12441\n",
              "14    12369\n",
              "19    12287\n",
              "17    12131\n",
              "16    12106\n",
              "3     12069\n",
              "15    11993\n",
              "4     11807\n",
              "13    11713\n",
              "1     11575\n",
              "11    11449\n",
              "20    11350\n",
              "8     11350\n",
              "7     11232\n",
              "2     11087\n",
              "0     11043\n",
              "Name: experience, dtype: int64"
            ]
          },
          "metadata": {
            "tags": []
          },
          "execution_count": 179
        }
      ]
    },
    {
      "cell_type": "code",
      "metadata": {
        "colab": {
          "base_uri": "https://localhost:8080/"
        },
        "id": "5Zr244LW9Tnt",
        "outputId": "19cf8bd2-dd53-4a82-e8e5-cdd54b1a61af"
      },
      "source": [
        "train['experience'].value_counts()/np.float(len(train))"
      ],
      "execution_count": 180,
      "outputs": [
        {
          "output_type": "execute_result",
          "data": {
            "text/plain": [
              "6     0.052214\n",
              "9     0.051333\n",
              "12    0.050794\n",
              "18    0.050004\n",
              "10    0.049615\n",
              "5     0.049369\n",
              "14    0.049083\n",
              "19    0.048758\n",
              "17    0.048139\n",
              "16    0.048040\n",
              "3     0.047893\n",
              "15    0.047591\n",
              "4     0.046853\n",
              "13    0.046480\n",
              "1     0.045933\n",
              "11    0.045433\n",
              "20    0.045040\n",
              "8     0.045040\n",
              "7     0.044571\n",
              "2     0.043996\n",
              "0     0.043821\n",
              "Name: experience, dtype: float64"
            ]
          },
          "metadata": {
            "tags": []
          },
          "execution_count": 180
        }
      ]
    },
    {
      "cell_type": "code",
      "metadata": {
        "id": "EdxHVvy7ZlAo"
      },
      "source": [
        "mx = MinMaxScaler()\n",
        "col = 'experience'\n",
        "train[col] = mx.fit_transform(train[col].values.reshape(-1,1))\n",
        "test[col] = mx.transform(test[col].values.reshape(-1,1))"
      ],
      "execution_count": 181,
      "outputs": []
    },
    {
      "cell_type": "code",
      "metadata": {
        "colab": {
          "base_uri": "https://localhost:8080/",
          "height": 296
        },
        "id": "wVrbVrttZk-U",
        "outputId": "08fdcd15-b03b-4f31-be4b-78713807ae00"
      },
      "source": [
        "sns.kdeplot(train['experience'])"
      ],
      "execution_count": 182,
      "outputs": [
        {
          "output_type": "execute_result",
          "data": {
            "text/plain": [
              "<matplotlib.axes._subplots.AxesSubplot at 0x7f78b8ca1810>"
            ]
          },
          "metadata": {
            "tags": []
          },
          "execution_count": 182
        },
        {
          "output_type": "display_data",
          "data": {
            "image/png": "[encoded data removed]",
            "text/plain": [
              "<Figure size 432x288 with 1 Axes>"
            ]
          },
          "metadata": {
            "tags": [],
            "needs_background": "light"
          }
        }
      ]
    },
    {
      "cell_type": "code",
      "metadata": {
        "colab": {
          "base_uri": "https://localhost:8080/",
          "height": 296
        },
        "id": "A3SKHWltCcJa",
        "outputId": "7c9f4ad9-1777-475b-826f-170ac9e8ff24"
      },
      "source": [
        "sns.kdeplot(train['income'])"
      ],
      "execution_count": 183,
      "outputs": [
        {
          "output_type": "execute_result",
          "data": {
            "text/plain": [
              "<matplotlib.axes._subplots.AxesSubplot at 0x7f78b8cb3a10>"
            ]
          },
          "metadata": {
            "tags": []
          },
          "execution_count": 183
        },
        {
          "output_type": "display_data",
          "data": {
            "image/png": "[encoded data removed]",
            "text/plain": [
              "<Figure size 432x288 with 1 Axes>"
            ]
          },
          "metadata": {
            "tags": [],
            "needs_background": "light"
          }
        }
      ]
    },
    {
      "cell_type": "code",
      "metadata": {
        "colab": {
          "base_uri": "https://localhost:8080/"
        },
        "id": "Ojcko7pxC2cH",
        "outputId": "71ad78e5-3a4b-4324-8559-0524ae2b255f"
      },
      "source": [
        "train['current_job_years'].describe()"
      ],
      "execution_count": 184,
      "outputs": [
        {
          "output_type": "execute_result",
          "data": {
            "text/plain": [
              "count    252000.000000\n",
              "mean          6.333877\n",
              "std           3.647053\n",
              "min           0.000000\n",
              "25%           3.000000\n",
              "50%           6.000000\n",
              "75%           9.000000\n",
              "max          14.000000\n",
              "Name: current_job_years, dtype: float64"
            ]
          },
          "metadata": {
            "tags": []
          },
          "execution_count": 184
        }
      ]
    },
    {
      "cell_type": "code",
      "metadata": {
        "colab": {
          "base_uri": "https://localhost:8080/"
        },
        "id": "mx5AgI2NDa56",
        "outputId": "e5199a18-3e28-47bb-cc7a-dd2434a7ebc3"
      },
      "source": [
        "train['current_job_years'].value_counts()"
      ],
      "execution_count": 185,
      "outputs": [
        {
          "output_type": "execute_result",
          "data": {
            "text/plain": [
              "3     29460\n",
              "4     28339\n",
              "5     25091\n",
              "6     23491\n",
              "7     19925\n",
              "8     18874\n",
              "9     17132\n",
              "10    15768\n",
              "11    13595\n",
              "1     11575\n",
              "2     11087\n",
              "0     11043\n",
              "12    10605\n",
              "13     9099\n",
              "14     6916\n",
              "Name: current_job_years, dtype: int64"
            ]
          },
          "metadata": {
            "tags": []
          },
          "execution_count": 185
        }
      ]
    },
    {
      "cell_type": "code",
      "metadata": {
        "colab": {
          "base_uri": "https://localhost:8080/"
        },
        "id": "ljwHuNidDgOJ",
        "outputId": "a18a8130-23e2-40e4-aa4d-86fa53f2a0c2"
      },
      "source": [
        "train['current_job_years'].value_counts()/np.float(len(train))"
      ],
      "execution_count": 186,
      "outputs": [
        {
          "output_type": "execute_result",
          "data": {
            "text/plain": [
              "3     0.116905\n",
              "4     0.112456\n",
              "5     0.099567\n",
              "6     0.093218\n",
              "7     0.079067\n",
              "8     0.074897\n",
              "9     0.067984\n",
              "10    0.062571\n",
              "11    0.053948\n",
              "1     0.045933\n",
              "2     0.043996\n",
              "0     0.043821\n",
              "12    0.042083\n",
              "13    0.036107\n",
              "14    0.027444\n",
              "Name: current_job_years, dtype: float64"
            ]
          },
          "metadata": {
            "tags": []
          },
          "execution_count": 186
        }
      ]
    },
    {
      "cell_type": "code",
      "metadata": {
        "id": "EV-aRtCPFtfs"
      },
      "source": [
        "mx = MinMaxScaler()\n",
        "col = 'experience'\n",
        "train[col] = mx.fit_transform(train[col].values.reshape(-1,1))\n",
        "test[col] = mx.fit_transform(test[col].values.reshape(-1,1))"
      ],
      "execution_count": 187,
      "outputs": []
    },
    {
      "cell_type": "code",
      "metadata": {
        "colab": {
          "base_uri": "https://localhost:8080/",
          "height": 226
        },
        "id": "SB4rZmuyF8rv",
        "outputId": "60dc456c-5f5e-4a9e-be7d-6cacbb40e847"
      },
      "source": [
        "train.head()"
      ],
      "execution_count": 188,
      "outputs": [
        {
          "output_type": "execute_result",
          "data": {
            "text/html": [
              "<div>\n",
              "<style scoped>\n",
              "    .dataframe tbody tr th:only-of-type {\n",
              "        vertical-align: middle;\n",
              "    }\n",
              "\n",
              "    .dataframe tbody tr th {\n",
              "        vertical-align: top;\n",
              "    }\n",
              "\n",
              "    .dataframe thead th {\n",
              "        text-align: right;\n",
              "    }\n",
              "</style>\n",
              "<table border=\"1\" class=\"dataframe\">\n",
              "  <thead>\n",
              "    <tr style=\"text-align: right;\">\n",
              "      <th></th>\n",
              "      <th>Id</th>\n",
              "      <th>income</th>\n",
              "      <th>age</th>\n",
              "      <th>experience</th>\n",
              "      <th>married</th>\n",
              "      <th>house_ownership</th>\n",
              "      <th>car_ownership</th>\n",
              "      <th>profession</th>\n",
              "      <th>city</th>\n",
              "      <th>state</th>\n",
              "      <th>current_job_years</th>\n",
              "      <th>current_house_years</th>\n",
              "      <th>risk_flag</th>\n",
              "    </tr>\n",
              "  </thead>\n",
              "  <tbody>\n",
              "    <tr>\n",
              "      <th>0</th>\n",
              "      <td>1</td>\n",
              "      <td>0.129487</td>\n",
              "      <td>1</td>\n",
              "      <td>0.15</td>\n",
              "      <td>1</td>\n",
              "      <td>2</td>\n",
              "      <td>0</td>\n",
              "      <td>33</td>\n",
              "      <td>251</td>\n",
              "      <td>13</td>\n",
              "      <td>3</td>\n",
              "      <td>13</td>\n",
              "      <td>0</td>\n",
              "    </tr>\n",
              "    <tr>\n",
              "      <th>1</th>\n",
              "      <td>2</td>\n",
              "      <td>0.757206</td>\n",
              "      <td>4</td>\n",
              "      <td>0.50</td>\n",
              "      <td>1</td>\n",
              "      <td>2</td>\n",
              "      <td>0</td>\n",
              "      <td>43</td>\n",
              "      <td>227</td>\n",
              "      <td>14</td>\n",
              "      <td>9</td>\n",
              "      <td>13</td>\n",
              "      <td>0</td>\n",
              "    </tr>\n",
              "    <tr>\n",
              "      <th>2</th>\n",
              "      <td>3</td>\n",
              "      <td>0.398564</td>\n",
              "      <td>10</td>\n",
              "      <td>0.20</td>\n",
              "      <td>0</td>\n",
              "      <td>2</td>\n",
              "      <td>0</td>\n",
              "      <td>47</td>\n",
              "      <td>8</td>\n",
              "      <td>12</td>\n",
              "      <td>4</td>\n",
              "      <td>10</td>\n",
              "      <td>0</td>\n",
              "    </tr>\n",
              "    <tr>\n",
              "      <th>3</th>\n",
              "      <td>4</td>\n",
              "      <td>0.625263</td>\n",
              "      <td>5</td>\n",
              "      <td>0.10</td>\n",
              "      <td>1</td>\n",
              "      <td>2</td>\n",
              "      <td>1</td>\n",
              "      <td>43</td>\n",
              "      <td>54</td>\n",
              "      <td>17</td>\n",
              "      <td>2</td>\n",
              "      <td>12</td>\n",
              "      <td>1</td>\n",
              "    </tr>\n",
              "    <tr>\n",
              "      <th>4</th>\n",
              "      <td>5</td>\n",
              "      <td>0.576454</td>\n",
              "      <td>6</td>\n",
              "      <td>0.55</td>\n",
              "      <td>1</td>\n",
              "      <td>2</td>\n",
              "      <td>0</td>\n",
              "      <td>11</td>\n",
              "      <td>296</td>\n",
              "      <td>22</td>\n",
              "      <td>3</td>\n",
              "      <td>14</td>\n",
              "      <td>1</td>\n",
              "    </tr>\n",
              "  </tbody>\n",
              "</table>\n",
              "</div>"
            ],
            "text/plain": [
              "   Id    income  age  ...  current_job_years  current_house_years  risk_flag\n",
              "0   1  0.129487    1  ...                  3                   13          0\n",
              "1   2  0.757206    4  ...                  9                   13          0\n",
              "2   3  0.398564   10  ...                  4                   10          0\n",
              "3   4  0.625263    5  ...                  2                   12          1\n",
              "4   5  0.576454    6  ...                  3                   14          1\n",
              "\n",
              "[5 rows x 13 columns]"
            ]
          },
          "metadata": {
            "tags": []
          },
          "execution_count": 188
        }
      ]
    },
    {
      "cell_type": "code",
      "metadata": {
        "colab": {
          "base_uri": "https://localhost:8080/"
        },
        "id": "-TGeMX1UGXeR",
        "outputId": "909cec54-4f73-4973-b73a-d83c8fc2d4bf"
      },
      "source": [
        "train.info()"
      ],
      "execution_count": 189,
      "outputs": [
        {
          "output_type": "stream",
          "text": [
            "<class 'pandas.core.frame.DataFrame'>\n",
            "RangeIndex: 252000 entries, 0 to 251999\n",
            "Data columns (total 13 columns):\n",
            " #   Column               Non-Null Count   Dtype  \n",
            "---  ------               --------------   -----  \n",
            " 0   Id                   252000 non-null  int64  \n",
            " 1   income               252000 non-null  float64\n",
            " 2   age                  252000 non-null  int64  \n",
            " 3   experience           252000 non-null  float64\n",
            " 4   married              252000 non-null  int64  \n",
            " 5   house_ownership      252000 non-null  int64  \n",
            " 6   car_ownership        252000 non-null  int64  \n",
            " 7   profession           252000 non-null  int64  \n",
            " 8   city                 252000 non-null  int64  \n",
            " 9   state                252000 non-null  int64  \n",
            " 10  current_job_years    252000 non-null  int64  \n",
            " 11  current_house_years  252000 non-null  int64  \n",
            " 12  risk_flag            252000 non-null  int64  \n",
            "dtypes: float64(2), int64(11)\n",
            "memory usage: 25.0 MB\n"
          ],
          "name": "stdout"
        }
      ]
    },
    {
      "cell_type": "code",
      "metadata": {
        "colab": {
          "base_uri": "https://localhost:8080/",
          "height": 444
        },
        "id": "A4PDuiEKGfDu",
        "outputId": "24580a17-0a53-433e-bdd0-48f24c5ff758"
      },
      "source": [
        "y = train.loc[:,'risk_flag']\n",
        "X = train.drop('risk_flag', axis = 1)\n",
        "X"
      ],
      "execution_count": 190,
      "outputs": [
        {
          "output_type": "execute_result",
          "data": {
            "text/html": [
              "<div>\n",
              "<style scoped>\n",
              "    .dataframe tbody tr th:only-of-type {\n",
              "        vertical-align: middle;\n",
              "    }\n",
              "\n",
              "    .dataframe tbody tr th {\n",
              "        vertical-align: top;\n",
              "    }\n",
              "\n",
              "    .dataframe thead th {\n",
              "        text-align: right;\n",
              "    }\n",
              "</style>\n",
              "<table border=\"1\" class=\"dataframe\">\n",
              "  <thead>\n",
              "    <tr style=\"text-align: right;\">\n",
              "      <th></th>\n",
              "      <th>Id</th>\n",
              "      <th>income</th>\n",
              "      <th>age</th>\n",
              "      <th>experience</th>\n",
              "      <th>married</th>\n",
              "      <th>house_ownership</th>\n",
              "      <th>car_ownership</th>\n",
              "      <th>profession</th>\n",
              "      <th>city</th>\n",
              "      <th>state</th>\n",
              "      <th>current_job_years</th>\n",
              "      <th>current_house_years</th>\n",
              "    </tr>\n",
              "  </thead>\n",
              "  <tbody>\n",
              "    <tr>\n",
              "      <th>0</th>\n",
              "      <td>1</td>\n",
              "      <td>0.129487</td>\n",
              "      <td>1</td>\n",
              "      <td>0.15</td>\n",
              "      <td>1</td>\n",
              "      <td>2</td>\n",
              "      <td>0</td>\n",
              "      <td>33</td>\n",
              "      <td>251</td>\n",
              "      <td>13</td>\n",
              "      <td>3</td>\n",
              "      <td>13</td>\n",
              "    </tr>\n",
              "    <tr>\n",
              "      <th>1</th>\n",
              "      <td>2</td>\n",
              "      <td>0.757206</td>\n",
              "      <td>4</td>\n",
              "      <td>0.50</td>\n",
              "      <td>1</td>\n",
              "      <td>2</td>\n",
              "      <td>0</td>\n",
              "      <td>43</td>\n",
              "      <td>227</td>\n",
              "      <td>14</td>\n",
              "      <td>9</td>\n",
              "      <td>13</td>\n",
              "    </tr>\n",
              "    <tr>\n",
              "      <th>2</th>\n",
              "      <td>3</td>\n",
              "      <td>0.398564</td>\n",
              "      <td>10</td>\n",
              "      <td>0.20</td>\n",
              "      <td>0</td>\n",
              "      <td>2</td>\n",
              "      <td>0</td>\n",
              "      <td>47</td>\n",
              "      <td>8</td>\n",
              "      <td>12</td>\n",
              "      <td>4</td>\n",
              "      <td>10</td>\n",
              "    </tr>\n",
              "    <tr>\n",
              "      <th>3</th>\n",
              "      <td>4</td>\n",
              "      <td>0.625263</td>\n",
              "      <td>5</td>\n",
              "      <td>0.10</td>\n",
              "      <td>1</td>\n",
              "      <td>2</td>\n",
              "      <td>1</td>\n",
              "      <td>43</td>\n",
              "      <td>54</td>\n",
              "      <td>17</td>\n",
              "      <td>2</td>\n",
              "      <td>12</td>\n",
              "    </tr>\n",
              "    <tr>\n",
              "      <th>4</th>\n",
              "      <td>5</td>\n",
              "      <td>0.576454</td>\n",
              "      <td>6</td>\n",
              "      <td>0.55</td>\n",
              "      <td>1</td>\n",
              "      <td>2</td>\n",
              "      <td>0</td>\n",
              "      <td>11</td>\n",
              "      <td>296</td>\n",
              "      <td>22</td>\n",
              "      <td>3</td>\n",
              "      <td>14</td>\n",
              "    </tr>\n",
              "    <tr>\n",
              "      <th>...</th>\n",
              "      <td>...</td>\n",
              "      <td>...</td>\n",
              "      <td>...</td>\n",
              "      <td>...</td>\n",
              "      <td>...</td>\n",
              "      <td>...</td>\n",
              "      <td>...</td>\n",
              "      <td>...</td>\n",
              "      <td>...</td>\n",
              "      <td>...</td>\n",
              "      <td>...</td>\n",
              "      <td>...</td>\n",
              "    </tr>\n",
              "    <tr>\n",
              "      <th>251995</th>\n",
              "      <td>251996</td>\n",
              "      <td>0.815303</td>\n",
              "      <td>5</td>\n",
              "      <td>0.65</td>\n",
              "      <td>1</td>\n",
              "      <td>2</td>\n",
              "      <td>0</td>\n",
              "      <td>45</td>\n",
              "      <td>162</td>\n",
              "      <td>28</td>\n",
              "      <td>6</td>\n",
              "      <td>11</td>\n",
              "    </tr>\n",
              "    <tr>\n",
              "      <th>251996</th>\n",
              "      <td>251997</td>\n",
              "      <td>0.283620</td>\n",
              "      <td>2</td>\n",
              "      <td>0.50</td>\n",
              "      <td>1</td>\n",
              "      <td>2</td>\n",
              "      <td>0</td>\n",
              "      <td>3</td>\n",
              "      <td>251</td>\n",
              "      <td>13</td>\n",
              "      <td>6</td>\n",
              "      <td>11</td>\n",
              "    </tr>\n",
              "    <tr>\n",
              "      <th>251997</th>\n",
              "      <td>251998</td>\n",
              "      <td>0.451682</td>\n",
              "      <td>6</td>\n",
              "      <td>0.35</td>\n",
              "      <td>1</td>\n",
              "      <td>2</td>\n",
              "      <td>0</td>\n",
              "      <td>17</td>\n",
              "      <td>144</td>\n",
              "      <td>14</td>\n",
              "      <td>7</td>\n",
              "      <td>12</td>\n",
              "    </tr>\n",
              "    <tr>\n",
              "      <th>251998</th>\n",
              "      <td>251999</td>\n",
              "      <td>0.650356</td>\n",
              "      <td>5</td>\n",
              "      <td>0.00</td>\n",
              "      <td>1</td>\n",
              "      <td>2</td>\n",
              "      <td>0</td>\n",
              "      <td>27</td>\n",
              "      <td>233</td>\n",
              "      <td>18</td>\n",
              "      <td>0</td>\n",
              "      <td>10</td>\n",
              "    </tr>\n",
              "    <tr>\n",
              "      <th>251999</th>\n",
              "      <td>252000</td>\n",
              "      <td>0.906933</td>\n",
              "      <td>10</td>\n",
              "      <td>0.85</td>\n",
              "      <td>1</td>\n",
              "      <td>2</td>\n",
              "      <td>0</td>\n",
              "      <td>44</td>\n",
              "      <td>26</td>\n",
              "      <td>22</td>\n",
              "      <td>7</td>\n",
              "      <td>11</td>\n",
              "    </tr>\n",
              "  </tbody>\n",
              "</table>\n",
              "<p>252000 rows × 12 columns</p>\n",
              "</div>"
            ],
            "text/plain": [
              "            Id    income  age  ...  state  current_job_years  current_house_years\n",
              "0            1  0.129487    1  ...     13                  3                   13\n",
              "1            2  0.757206    4  ...     14                  9                   13\n",
              "2            3  0.398564   10  ...     12                  4                   10\n",
              "3            4  0.625263    5  ...     17                  2                   12\n",
              "4            5  0.576454    6  ...     22                  3                   14\n",
              "...        ...       ...  ...  ...    ...                ...                  ...\n",
              "251995  251996  0.815303    5  ...     28                  6                   11\n",
              "251996  251997  0.283620    2  ...     13                  6                   11\n",
              "251997  251998  0.451682    6  ...     14                  7                   12\n",
              "251998  251999  0.650356    5  ...     18                  0                   10\n",
              "251999  252000  0.906933   10  ...     22                  7                   11\n",
              "\n",
              "[252000 rows x 12 columns]"
            ]
          },
          "metadata": {
            "tags": []
          },
          "execution_count": 190
        }
      ]
    },
    {
      "cell_type": "code",
      "metadata": {
        "id": "tCs8YBMeGuE0"
      },
      "source": [
        "X_train, X_test, y_train, y_test = train_test_split(X, y, test_size = 0.2, stratify = y, random_state = 42)"
      ],
      "execution_count": 191,
      "outputs": []
    },
    {
      "cell_type": "code",
      "metadata": {
        "colab": {
          "base_uri": "https://localhost:8080/",
          "height": 226
        },
        "id": "wEczv6STH8ql",
        "outputId": "6f0959b7-e922-46ce-9ff5-cb486a34f5c4"
      },
      "source": [
        "X_train.head()"
      ],
      "execution_count": 192,
      "outputs": [
        {
          "output_type": "execute_result",
          "data": {
            "text/html": [
              "<div>\n",
              "<style scoped>\n",
              "    .dataframe tbody tr th:only-of-type {\n",
              "        vertical-align: middle;\n",
              "    }\n",
              "\n",
              "    .dataframe tbody tr th {\n",
              "        vertical-align: top;\n",
              "    }\n",
              "\n",
              "    .dataframe thead th {\n",
              "        text-align: right;\n",
              "    }\n",
              "</style>\n",
              "<table border=\"1\" class=\"dataframe\">\n",
              "  <thead>\n",
              "    <tr style=\"text-align: right;\">\n",
              "      <th></th>\n",
              "      <th>Id</th>\n",
              "      <th>income</th>\n",
              "      <th>age</th>\n",
              "      <th>experience</th>\n",
              "      <th>married</th>\n",
              "      <th>house_ownership</th>\n",
              "      <th>car_ownership</th>\n",
              "      <th>profession</th>\n",
              "      <th>city</th>\n",
              "      <th>state</th>\n",
              "      <th>current_job_years</th>\n",
              "      <th>current_house_years</th>\n",
              "    </tr>\n",
              "  </thead>\n",
              "  <tbody>\n",
              "    <tr>\n",
              "      <th>13714</th>\n",
              "      <td>13715</td>\n",
              "      <td>0.813037</td>\n",
              "      <td>11</td>\n",
              "      <td>0.35</td>\n",
              "      <td>1</td>\n",
              "      <td>2</td>\n",
              "      <td>0</td>\n",
              "      <td>33</td>\n",
              "      <td>147</td>\n",
              "      <td>22</td>\n",
              "      <td>6</td>\n",
              "      <td>13</td>\n",
              "    </tr>\n",
              "    <tr>\n",
              "      <th>51718</th>\n",
              "      <td>51719</td>\n",
              "      <td>0.791355</td>\n",
              "      <td>9</td>\n",
              "      <td>0.40</td>\n",
              "      <td>1</td>\n",
              "      <td>2</td>\n",
              "      <td>0</td>\n",
              "      <td>40</td>\n",
              "      <td>134</td>\n",
              "      <td>6</td>\n",
              "      <td>3</td>\n",
              "      <td>12</td>\n",
              "    </tr>\n",
              "    <tr>\n",
              "      <th>99982</th>\n",
              "      <td>99983</td>\n",
              "      <td>0.626822</td>\n",
              "      <td>6</td>\n",
              "      <td>0.60</td>\n",
              "      <td>1</td>\n",
              "      <td>2</td>\n",
              "      <td>0</td>\n",
              "      <td>19</td>\n",
              "      <td>254</td>\n",
              "      <td>13</td>\n",
              "      <td>7</td>\n",
              "      <td>10</td>\n",
              "    </tr>\n",
              "    <tr>\n",
              "      <th>107150</th>\n",
              "      <td>107151</td>\n",
              "      <td>0.182371</td>\n",
              "      <td>7</td>\n",
              "      <td>0.65</td>\n",
              "      <td>1</td>\n",
              "      <td>2</td>\n",
              "      <td>1</td>\n",
              "      <td>41</td>\n",
              "      <td>312</td>\n",
              "      <td>0</td>\n",
              "      <td>12</td>\n",
              "      <td>14</td>\n",
              "    </tr>\n",
              "    <tr>\n",
              "      <th>94564</th>\n",
              "      <td>94565</td>\n",
              "      <td>0.795207</td>\n",
              "      <td>3</td>\n",
              "      <td>0.35</td>\n",
              "      <td>1</td>\n",
              "      <td>2</td>\n",
              "      <td>1</td>\n",
              "      <td>19</td>\n",
              "      <td>26</td>\n",
              "      <td>22</td>\n",
              "      <td>4</td>\n",
              "      <td>12</td>\n",
              "    </tr>\n",
              "  </tbody>\n",
              "</table>\n",
              "</div>"
            ],
            "text/plain": [
              "            Id    income  age  ...  state  current_job_years  current_house_years\n",
              "13714    13715  0.813037   11  ...     22                  6                   13\n",
              "51718    51719  0.791355    9  ...      6                  3                   12\n",
              "99982    99983  0.626822    6  ...     13                  7                   10\n",
              "107150  107151  0.182371    7  ...      0                 12                   14\n",
              "94564    94565  0.795207    3  ...     22                  4                   12\n",
              "\n",
              "[5 rows x 12 columns]"
            ]
          },
          "metadata": {
            "tags": []
          },
          "execution_count": 192
        }
      ]
    },
    {
      "cell_type": "code",
      "metadata": {
        "colab": {
          "base_uri": "https://localhost:8080/"
        },
        "id": "Hrw6q_CUHcGz",
        "outputId": "a67a4495-20b0-41e7-86e8-69af446277e9"
      },
      "source": [
        "from sklearn.ensemble import RandomForestClassifier\n",
        "model = RandomForestClassifier()\n",
        "model.fit(X_train, y_train) \n",
        "result = model.score(X_test, y_test)\n",
        "\n",
        "print('Model accuracy score: {0:0.4f}'. format(result))\n",
        "\n"
      ],
      "execution_count": 193,
      "outputs": [
        {
          "output_type": "stream",
          "text": [
            "Model accuracy score: 0.9081\n"
          ],
          "name": "stdout"
        }
      ]
    },
    {
      "cell_type": "code",
      "metadata": {
        "colab": {
          "base_uri": "https://localhost:8080/"
        },
        "id": "eE1-1g8rIUTI",
        "outputId": "028b5146-0350-48bd-ae8a-547033665e9a"
      },
      "source": [
        "roc_auc_score(y_train, model.predict(X_train))"
      ],
      "execution_count": 196,
      "outputs": [
        {
          "output_type": "execute_result",
          "data": {
            "text/plain": [
              "0.9999596725410331"
            ]
          },
          "metadata": {
            "tags": []
          },
          "execution_count": 196
        }
      ]
    },
    {
      "cell_type": "code",
      "metadata": {
        "colab": {
          "base_uri": "https://localhost:8080/"
        },
        "id": "RK6G29TqI1LR",
        "outputId": "1c854108-c74f-4bf6-afe4-456fbe9f603a"
      },
      "source": [
        "roc_auc_score(y_test,model.predict_proba(X_test)[:,1])"
      ],
      "execution_count": 198,
      "outputs": [
        {
          "output_type": "execute_result",
          "data": {
            "text/plain": [
              "0.9244566131796725"
            ]
          },
          "metadata": {
            "tags": []
          },
          "execution_count": 198
        }
      ]
    },
    {
      "cell_type": "code",
      "metadata": {
        "id": "Z0KEghI3JNWZ"
      },
      "source": [
        "y_pred = model.predict(test)"
      ],
      "execution_count": 199,
      "outputs": []
    },
    {
      "cell_type": "code",
      "metadata": {
        "colab": {
          "base_uri": "https://localhost:8080/"
        },
        "id": "QkV7wE2LJWX0",
        "outputId": "e0df9556-5ae9-47f7-ea8c-abae908bc191"
      },
      "source": [
        "y_pred"
      ],
      "execution_count": 200,
      "outputs": [
        {
          "output_type": "execute_result",
          "data": {
            "text/plain": [
              "array([0, 0, 0, ..., 0, 0, 0])"
            ]
          },
          "metadata": {
            "tags": []
          },
          "execution_count": 200
        }
      ]
    },
    {
      "cell_type": "code",
      "metadata": {
        "colab": {
          "base_uri": "https://localhost:8080/",
          "height": 237
        },
        "id": "M-67JuSMJYiX",
        "outputId": "3b41bf4d-c241-4de4-d266-4ce6fbb101d2"
      },
      "source": [
        "sub = pd.DataFrame(y_pred,columns = ['risk_flag'],index = [i+1 for i in range(test.shape[0])])\n",
        "\n",
        "sub.index.name = 'id'\n",
        "sub.head()"
      ],
      "execution_count": 202,
      "outputs": [
        {
          "output_type": "execute_result",
          "data": {
            "text/html": [
              "<div>\n",
              "<style scoped>\n",
              "    .dataframe tbody tr th:only-of-type {\n",
              "        vertical-align: middle;\n",
              "    }\n",
              "\n",
              "    .dataframe tbody tr th {\n",
              "        vertical-align: top;\n",
              "    }\n",
              "\n",
              "    .dataframe thead th {\n",
              "        text-align: right;\n",
              "    }\n",
              "</style>\n",
              "<table border=\"1\" class=\"dataframe\">\n",
              "  <thead>\n",
              "    <tr style=\"text-align: right;\">\n",
              "      <th></th>\n",
              "      <th>risk_flag</th>\n",
              "    </tr>\n",
              "    <tr>\n",
              "      <th>id</th>\n",
              "      <th></th>\n",
              "    </tr>\n",
              "  </thead>\n",
              "  <tbody>\n",
              "    <tr>\n",
              "      <th>1</th>\n",
              "      <td>0</td>\n",
              "    </tr>\n",
              "    <tr>\n",
              "      <th>2</th>\n",
              "      <td>0</td>\n",
              "    </tr>\n",
              "    <tr>\n",
              "      <th>3</th>\n",
              "      <td>0</td>\n",
              "    </tr>\n",
              "    <tr>\n",
              "      <th>4</th>\n",
              "      <td>0</td>\n",
              "    </tr>\n",
              "    <tr>\n",
              "      <th>5</th>\n",
              "      <td>0</td>\n",
              "    </tr>\n",
              "  </tbody>\n",
              "</table>\n",
              "</div>"
            ],
            "text/plain": [
              "    risk_flag\n",
              "id           \n",
              "1           0\n",
              "2           0\n",
              "3           0\n",
              "4           0\n",
              "5           0"
            ]
          },
          "metadata": {
            "tags": []
          },
          "execution_count": 202
        }
      ]
    },
    {
      "cell_type": "code",
      "metadata": {
        "id": "H74oylEdJfMJ"
      },
      "source": [
        "sub.to_csv('rf_final.csv')"
      ],
      "execution_count": 203,
      "outputs": []
    },
    {
      "cell_type": "code",
      "metadata": {
        "id": "Wun8GL7WJ0O5"
      },
      "source": [
        ""
      ],
      "execution_count": null,
      "outputs": []
    }
  ]
}